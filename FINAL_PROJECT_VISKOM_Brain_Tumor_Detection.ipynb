{
  "cells": [
    {
      "cell_type": "code",
      "source": [
        "from google.colab import drive\n",
        "drive.mount('/content/drive')"
      ],
      "metadata": {
        "colab": {
          "base_uri": "https://localhost:8080/"
        },
        "id": "4P2As4B9TSgo",
        "outputId": "9ae5e505-09fd-4a4b-ab06-feda0c595e73"
      },
      "execution_count": null,
      "outputs": [
        {
          "output_type": "stream",
          "name": "stdout",
          "text": [
            "Drive already mounted at /content/drive; to attempt to forcibly remount, call drive.mount(\"/content/drive\", force_remount=True).\n"
          ]
        }
      ]
    },
    {
      "cell_type": "code",
      "source": [
        "import zipfile\n",
        "import os\n",
        "\n",
        "# Path ke file zip di Google Drive\n",
        "zip_path = '/content/drive/MyDrive/Datasets/brain-tumor.zip'\n",
        "extract_path = '/content/drive/MyDrive/Datasets/brain_tumor_dataset'\n",
        "\n",
        "# Ekstrak file\n",
        "with zipfile.ZipFile(zip_path, 'r') as zip_ref:\n",
        "    zip_ref.extractall(extract_path)\n",
        "\n",
        "print(\"Dataset berhasil diekstrak!\")"
      ],
      "metadata": {
        "colab": {
          "base_uri": "https://localhost:8080/"
        },
        "id": "bBpkIUUSVxgA",
        "outputId": "d7d05655-0b7c-42db-8908-fde76a691a41"
      },
      "execution_count": null,
      "outputs": [
        {
          "output_type": "stream",
          "name": "stdout",
          "text": [
            "Dataset berhasil diekstrak!\n"
          ]
        }
      ]
    },
    {
      "cell_type": "code",
      "source": [
        "!pip install ultralytics\n",
        "from ultralytics import YOLO"
      ],
      "metadata": {
        "colab": {
          "base_uri": "https://localhost:8080/"
        },
        "collapsed": true,
        "id": "3IaiIHMhWbN0",
        "outputId": "8b847589-9caf-4e3b-f94b-0e4c0dc20a6d"
      },
      "execution_count": null,
      "outputs": [
        {
          "output_type": "stream",
          "name": "stdout",
          "text": [
            "Requirement already satisfied: ultralytics in /usr/local/lib/python3.10/dist-packages (8.3.55)\n",
            "Requirement already satisfied: numpy>=1.23.0 in /usr/local/lib/python3.10/dist-packages (from ultralytics) (1.26.4)\n",
            "Requirement already satisfied: matplotlib>=3.3.0 in /usr/local/lib/python3.10/dist-packages (from ultralytics) (3.8.0)\n",
            "Requirement already satisfied: opencv-python>=4.6.0 in /usr/local/lib/python3.10/dist-packages (from ultralytics) (4.10.0.84)\n",
            "Requirement already satisfied: pillow>=7.1.2 in /usr/local/lib/python3.10/dist-packages (from ultralytics) (11.0.0)\n",
            "Requirement already satisfied: pyyaml>=5.3.1 in /usr/local/lib/python3.10/dist-packages (from ultralytics) (6.0.2)\n",
            "Requirement already satisfied: requests>=2.23.0 in /usr/local/lib/python3.10/dist-packages (from ultralytics) (2.32.3)\n",
            "Requirement already satisfied: scipy>=1.4.1 in /usr/local/lib/python3.10/dist-packages (from ultralytics) (1.13.1)\n",
            "Requirement already satisfied: torch>=1.8.0 in /usr/local/lib/python3.10/dist-packages (from ultralytics) (2.5.1+cu121)\n",
            "Requirement already satisfied: torchvision>=0.9.0 in /usr/local/lib/python3.10/dist-packages (from ultralytics) (0.20.1+cu121)\n",
            "Requirement already satisfied: tqdm>=4.64.0 in /usr/local/lib/python3.10/dist-packages (from ultralytics) (4.67.1)\n",
            "Requirement already satisfied: psutil in /usr/local/lib/python3.10/dist-packages (from ultralytics) (5.9.5)\n",
            "Requirement already satisfied: py-cpuinfo in /usr/local/lib/python3.10/dist-packages (from ultralytics) (9.0.0)\n",
            "Requirement already satisfied: pandas>=1.1.4 in /usr/local/lib/python3.10/dist-packages (from ultralytics) (2.2.2)\n",
            "Requirement already satisfied: seaborn>=0.11.0 in /usr/local/lib/python3.10/dist-packages (from ultralytics) (0.13.2)\n",
            "Requirement already satisfied: ultralytics-thop>=2.0.0 in /usr/local/lib/python3.10/dist-packages (from ultralytics) (2.0.13)\n",
            "Requirement already satisfied: contourpy>=1.0.1 in /usr/local/lib/python3.10/dist-packages (from matplotlib>=3.3.0->ultralytics) (1.3.1)\n",
            "Requirement already satisfied: cycler>=0.10 in /usr/local/lib/python3.10/dist-packages (from matplotlib>=3.3.0->ultralytics) (0.12.1)\n",
            "Requirement already satisfied: fonttools>=4.22.0 in /usr/local/lib/python3.10/dist-packages (from matplotlib>=3.3.0->ultralytics) (4.55.3)\n",
            "Requirement already satisfied: kiwisolver>=1.0.1 in /usr/local/lib/python3.10/dist-packages (from matplotlib>=3.3.0->ultralytics) (1.4.7)\n",
            "Requirement already satisfied: packaging>=20.0 in /usr/local/lib/python3.10/dist-packages (from matplotlib>=3.3.0->ultralytics) (24.2)\n",
            "Requirement already satisfied: pyparsing>=2.3.1 in /usr/local/lib/python3.10/dist-packages (from matplotlib>=3.3.0->ultralytics) (3.2.0)\n",
            "Requirement already satisfied: python-dateutil>=2.7 in /usr/local/lib/python3.10/dist-packages (from matplotlib>=3.3.0->ultralytics) (2.8.2)\n",
            "Requirement already satisfied: pytz>=2020.1 in /usr/local/lib/python3.10/dist-packages (from pandas>=1.1.4->ultralytics) (2024.2)\n",
            "Requirement already satisfied: tzdata>=2022.7 in /usr/local/lib/python3.10/dist-packages (from pandas>=1.1.4->ultralytics) (2024.2)\n",
            "Requirement already satisfied: charset-normalizer<4,>=2 in /usr/local/lib/python3.10/dist-packages (from requests>=2.23.0->ultralytics) (3.4.0)\n",
            "Requirement already satisfied: idna<4,>=2.5 in /usr/local/lib/python3.10/dist-packages (from requests>=2.23.0->ultralytics) (3.10)\n",
            "Requirement already satisfied: urllib3<3,>=1.21.1 in /usr/local/lib/python3.10/dist-packages (from requests>=2.23.0->ultralytics) (2.2.3)\n",
            "Requirement already satisfied: certifi>=2017.4.17 in /usr/local/lib/python3.10/dist-packages (from requests>=2.23.0->ultralytics) (2024.12.14)\n",
            "Requirement already satisfied: filelock in /usr/local/lib/python3.10/dist-packages (from torch>=1.8.0->ultralytics) (3.16.1)\n",
            "Requirement already satisfied: typing-extensions>=4.8.0 in /usr/local/lib/python3.10/dist-packages (from torch>=1.8.0->ultralytics) (4.12.2)\n",
            "Requirement already satisfied: networkx in /usr/local/lib/python3.10/dist-packages (from torch>=1.8.0->ultralytics) (3.4.2)\n",
            "Requirement already satisfied: jinja2 in /usr/local/lib/python3.10/dist-packages (from torch>=1.8.0->ultralytics) (3.1.4)\n",
            "Requirement already satisfied: fsspec in /usr/local/lib/python3.10/dist-packages (from torch>=1.8.0->ultralytics) (2024.10.0)\n",
            "Requirement already satisfied: sympy==1.13.1 in /usr/local/lib/python3.10/dist-packages (from torch>=1.8.0->ultralytics) (1.13.1)\n",
            "Requirement already satisfied: mpmath<1.4,>=1.1.0 in /usr/local/lib/python3.10/dist-packages (from sympy==1.13.1->torch>=1.8.0->ultralytics) (1.3.0)\n",
            "Requirement already satisfied: six>=1.5 in /usr/local/lib/python3.10/dist-packages (from python-dateutil>=2.7->matplotlib>=3.3.0->ultralytics) (1.17.0)\n",
            "Requirement already satisfied: MarkupSafe>=2.0 in /usr/local/lib/python3.10/dist-packages (from jinja2->torch>=1.8.0->ultralytics) (3.0.2)\n"
          ]
        }
      ]
    },
    {
      "cell_type": "code",
      "source": [
        "import os\n",
        "import shutil\n",
        "\n",
        "# Fungsi untuk menyalin file\n",
        "def copy_files(src, dst):\n",
        "    for file_name in os.listdir(src):\n",
        "        file_path = os.path.join(src, file_name)\n",
        "        if os.path.isfile(file_path):\n",
        "            shutil.copy(file_path, dst)\n",
        "\n",
        "# Gabungkan gambar ke folder 'train' dan 'val'\n",
        "train_dirs = [\n",
        "    '/content/drive/MyDrive/Datasets/brain_tumor_dataset/axial_t1wce_2_class/images/train',\n",
        "    '/content/drive/MyDrive/Datasets/brain_tumor_dataset/coronal_t1wce_2_class/images/train',\n",
        "    '/content/drive/MyDrive/Datasets/brain_tumor_dataset/sagittal_t1wce_2_class/images/train'\n",
        "]\n",
        "\n",
        "val_dirs = [\n",
        "    '/content/drive/MyDrive/Datasets/brain_tumor_dataset/axial_t1wce_2_class/images/test',\n",
        "    '/content/drive/MyDrive/Datasets/brain_tumor_dataset/coronal_t1wce_2_class/images/test',\n",
        "    '/content/drive/MyDrive/Datasets/brain_tumor_dataset/sagittal_t1wce_2_class/images/test'\n",
        "]\n",
        "\n",
        "# Tentukan folder tujuan\n",
        "train_dst = '/content/drive/MyDrive/Datasets/brain_tumor_dataset/images/train'\n",
        "val_dst = '/content/drive/MyDrive/Datasets/brain_tumor_dataset/images/val'\n",
        "\n",
        "# Membuat folder tujuan jika belum ada\n",
        "os.makedirs(train_dst, exist_ok=True)\n",
        "os.makedirs(val_dst, exist_ok=True)\n",
        "\n",
        "# Salin file gambar ke folder yang sesuai\n",
        "for dir in train_dirs:\n",
        "    copy_files(dir, train_dst)\n",
        "\n",
        "for dir in val_dirs:\n",
        "    copy_files(dir, val_dst)\n",
        "\n",
        "print(\"Gambar berhasil dipindahkan!\")\n"
      ],
      "metadata": {
        "colab": {
          "base_uri": "https://localhost:8080/"
        },
        "id": "nC0zj7oHahUh",
        "outputId": "303c61aa-7ba4-403a-cd1d-1998dc03abc2"
      },
      "execution_count": null,
      "outputs": [
        {
          "output_type": "stream",
          "name": "stdout",
          "text": [
            "Gambar berhasil dipindahkan!\n"
          ]
        }
      ]
    },
    {
      "cell_type": "code",
      "source": [
        "# # Buat file label untuk gambar .jpg di folder val\n",
        "# val_images = [f for f in os.listdir(val_dst) if f.endswith('.jpg')]\n",
        "\n",
        "# def create_label_file(image_name, output_folder):\n",
        "#     # Format label: 'class x_center y_center width height' (koordinat normalisasi)\n",
        "#     # Ini adalah contoh format yang diinginkan untuk YOLO. Pastikan untuk menyesuaikan berdasarkan dataset Anda.\n",
        "#     label_name = image_name.replace('.jpg', '.txt')\n",
        "#     label_path = os.path.join(output_folder, label_name)\n",
        "\n",
        "#     # Membuat label dummy untuk semua gambar dalam folder val\n",
        "#     with open(label_path, 'w') as file:\n",
        "#         # Misal: 0 untuk tumor, 1 untuk non-tumor. Ini adalah placeholder, Anda harus menyesuaikan.\n",
        "#         file.write(\"0 0.5 0.5 0.2 0.3\\n\")  # Format: class_id x_center y_center width height\n",
        "\n",
        "# # Buat file label untuk setiap gambar di val\n",
        "# for image_name in val_images:\n",
        "#     create_label_file(image_name, val_dst)\n",
        "\n",
        "# print(\"File gambar dan label berhasil dipindahkan dan dibuat di folder 'train' dan 'val'.\")\n",
        "\n",
        "import os\n",
        "\n",
        "# Folder gambar\n",
        "train_images_folder = '/content/drive/MyDrive/Datasets/brain_tumor_dataset/images/train'\n",
        "val_images_folder = '/content/drive/MyDrive/Datasets/brain_tumor_dataset/images/val'\n",
        "\n",
        "# Folder untuk label\n",
        "train_labels_folder = '/content/drive/MyDrive/Datasets/brain_tumor_dataset/labels/train'\n",
        "val_labels_folder = '/content/drive/MyDrive/Datasets/brain_tumor_dataset/labels/val'\n",
        "\n",
        "# Membuat folder label jika belum ada\n",
        "os.makedirs(train_labels_folder, exist_ok=True)\n",
        "os.makedirs(val_labels_folder, exist_ok=True)\n",
        "\n",
        "# Fungsi untuk membuat file label dummy\n",
        "def create_label_file(image_name, label_folder):\n",
        "    # Format label dummy: 'class_id x_center y_center width height'\n",
        "    label_name = image_name.replace('.jpg', '.txt')  # Ubah nama gambar menjadi label\n",
        "    label_path = os.path.join(label_folder, label_name)\n",
        "\n",
        "    # Misalnya, kita menambahkan data dummy untuk kelas tumor (class_id 0)\n",
        "    # Pastikan untuk menyesuaikan ini dengan data sebenarnya jika tersedia.\n",
        "    with open(label_path, 'w') as f:\n",
        "        f.write(\"0 0.5 0.5 0.2 0.3\\n\")  # Data dummy (misalnya: 0 untuk tumor, bounding box di tengah)\n",
        "\n",
        "# Membuat label untuk setiap gambar di folder train\n",
        "train_images = [f for f in os.listdir(train_images_folder) if f.endswith('.jpg')]\n",
        "for image_name in train_images:\n",
        "    create_label_file(image_name, train_labels_folder)\n",
        "\n",
        "# Membuat label untuk setiap gambar di folder val\n",
        "val_images = [f for f in os.listdir(val_images_folder) if f.endswith('.jpg')]\n",
        "for image_name in val_images:\n",
        "    create_label_file(image_name, val_labels_folder)\n",
        "\n",
        "print(\"Label untuk gambar di folder 'train' dan 'val' berhasil dibuat!\")"
      ],
      "metadata": {
        "colab": {
          "base_uri": "https://localhost:8080/"
        },
        "id": "HqB6cLOQj7dv",
        "outputId": "4d1371c9-e7f7-44ff-fd36-8be497aade5a"
      },
      "execution_count": null,
      "outputs": [
        {
          "output_type": "stream",
          "name": "stdout",
          "text": [
            "Label untuk gambar di folder 'train' dan 'val' berhasil dibuat!\n"
          ]
        }
      ]
    },
    {
      "cell_type": "code",
      "source": [
        "# Buat file YAML\n",
        "yaml_path = '/content/drive/MyDrive/Datasets/data.yaml'\n",
        "yaml_content = \"\"\"\n",
        "train: /content/drive/MyDrive/Datasets/brain_tumor_dataset/images/train\n",
        "val: /content/drive/MyDrive/Datasets/brain_tumor_dataset/images/val\n",
        "\n",
        "# Jumlah kelas\n",
        "nc: 2\n",
        "\n",
        "# Nama kelas\n",
        "names: ['tumor', 'non-tumor']\n",
        "\"\"\"\n",
        "# Simpan file YAML\n",
        "with open(yaml_path, \"w\") as file:\n",
        "    file.write(yaml_content)\n",
        "\n",
        "print(f\"File YAML berhasil disimpan di: {yaml_path}\")"
      ],
      "metadata": {
        "colab": {
          "base_uri": "https://localhost:8080/"
        },
        "id": "VTNDyZyjcj0H",
        "outputId": "f595e715-13f9-4147-8df5-d2f8baed86ff"
      },
      "execution_count": null,
      "outputs": [
        {
          "output_type": "stream",
          "name": "stdout",
          "text": [
            "File YAML berhasil disimpan di: /content/drive/MyDrive/Datasets/data.yaml\n"
          ]
        }
      ]
    },
    {
      "cell_type": "code",
      "source": [
        "# Buat model YOLOv8\n",
        "model = YOLO('yolov8s.pt')  # Pilih model YOLOv8 (s: small, m: medium, l: large)\n",
        "\n",
        "# Latih model\n",
        "model.train(data='/content/drive/MyDrive/Datasets/data.yaml', epochs=50, imgsz=640, batch=16)\n"
      ],
      "metadata": {
        "colab": {
          "base_uri": "https://localhost:8080/"
        },
        "id": "dOi9srQUjoP9",
        "outputId": "4a8d21a7-b653-4e0e-b565-04600306c865"
      },
      "execution_count": null,
      "outputs": [
        {
          "output_type": "stream",
          "name": "stdout",
          "text": [
            "Downloading https://github.com/ultralytics/assets/releases/download/v8.3.0/yolov8s.pt to 'yolov8s.pt'...\n"
          ]
        },
        {
          "output_type": "stream",
          "name": "stderr",
          "text": [
            "100%|██████████| 21.5M/21.5M [00:00<00:00, 142MB/s] \n"
          ]
        },
        {
          "output_type": "stream",
          "name": "stdout",
          "text": [
            "Ultralytics 8.3.55 🚀 Python-3.10.12 torch-2.5.1+cu121 CPU (Intel Xeon 2.20GHz)\n",
            "\u001b[34m\u001b[1mengine/trainer: \u001b[0mtask=detect, mode=train, model=yolov8s.pt, data=/content/drive/MyDrive/Datasets/data.yaml, epochs=50, time=None, patience=100, batch=16, imgsz=640, save=True, save_period=-1, cache=False, device=None, workers=8, project=None, name=train3, exist_ok=False, pretrained=True, optimizer=auto, verbose=True, seed=0, deterministic=True, single_cls=False, rect=False, cos_lr=False, close_mosaic=10, resume=False, amp=True, fraction=1.0, profile=False, freeze=None, multi_scale=False, overlap_mask=True, mask_ratio=4, dropout=0.0, val=True, split=val, save_json=False, save_hybrid=False, conf=None, iou=0.7, max_det=300, half=False, dnn=False, plots=True, source=None, vid_stride=1, stream_buffer=False, visualize=False, augment=False, agnostic_nms=False, classes=None, retina_masks=False, embed=None, show=False, save_frames=False, save_txt=False, save_conf=False, save_crop=False, show_labels=True, show_conf=True, show_boxes=True, line_width=None, format=torchscript, keras=False, optimize=False, int8=False, dynamic=False, simplify=True, opset=None, workspace=None, nms=False, lr0=0.01, lrf=0.01, momentum=0.937, weight_decay=0.0005, warmup_epochs=3.0, warmup_momentum=0.8, warmup_bias_lr=0.1, box=7.5, cls=0.5, dfl=1.5, pose=12.0, kobj=1.0, nbs=64, hsv_h=0.015, hsv_s=0.7, hsv_v=0.4, degrees=0.0, translate=0.1, scale=0.5, shear=0.0, perspective=0.0, flipud=0.0, fliplr=0.5, bgr=0.0, mosaic=1.0, mixup=0.0, copy_paste=0.0, copy_paste_mode=flip, auto_augment=randaugment, erasing=0.4, crop_fraction=1.0, cfg=None, tracker=botsort.yaml, save_dir=runs/detect/train3\n",
            "Overriding model.yaml nc=80 with nc=2\n",
            "\n",
            "                   from  n    params  module                                       arguments                     \n",
            "  0                  -1  1       928  ultralytics.nn.modules.conv.Conv             [3, 32, 3, 2]                 \n",
            "  1                  -1  1     18560  ultralytics.nn.modules.conv.Conv             [32, 64, 3, 2]                \n",
            "  2                  -1  1     29056  ultralytics.nn.modules.block.C2f             [64, 64, 1, True]             \n",
            "  3                  -1  1     73984  ultralytics.nn.modules.conv.Conv             [64, 128, 3, 2]               \n",
            "  4                  -1  2    197632  ultralytics.nn.modules.block.C2f             [128, 128, 2, True]           \n",
            "  5                  -1  1    295424  ultralytics.nn.modules.conv.Conv             [128, 256, 3, 2]              \n",
            "  6                  -1  2    788480  ultralytics.nn.modules.block.C2f             [256, 256, 2, True]           \n",
            "  7                  -1  1   1180672  ultralytics.nn.modules.conv.Conv             [256, 512, 3, 2]              \n",
            "  8                  -1  1   1838080  ultralytics.nn.modules.block.C2f             [512, 512, 1, True]           \n",
            "  9                  -1  1    656896  ultralytics.nn.modules.block.SPPF            [512, 512, 5]                 \n",
            " 10                  -1  1         0  torch.nn.modules.upsampling.Upsample         [None, 2, 'nearest']          \n",
            " 11             [-1, 6]  1         0  ultralytics.nn.modules.conv.Concat           [1]                           \n",
            " 12                  -1  1    591360  ultralytics.nn.modules.block.C2f             [768, 256, 1]                 \n",
            " 13                  -1  1         0  torch.nn.modules.upsampling.Upsample         [None, 2, 'nearest']          \n",
            " 14             [-1, 4]  1         0  ultralytics.nn.modules.conv.Concat           [1]                           \n",
            " 15                  -1  1    148224  ultralytics.nn.modules.block.C2f             [384, 128, 1]                 \n",
            " 16                  -1  1    147712  ultralytics.nn.modules.conv.Conv             [128, 128, 3, 2]              \n",
            " 17            [-1, 12]  1         0  ultralytics.nn.modules.conv.Concat           [1]                           \n",
            " 18                  -1  1    493056  ultralytics.nn.modules.block.C2f             [384, 256, 1]                 \n",
            " 19                  -1  1    590336  ultralytics.nn.modules.conv.Conv             [256, 256, 3, 2]              \n",
            " 20             [-1, 9]  1         0  ultralytics.nn.modules.conv.Concat           [1]                           \n",
            " 21                  -1  1   1969152  ultralytics.nn.modules.block.C2f             [768, 512, 1]                 \n",
            " 22        [15, 18, 21]  1   2116822  ultralytics.nn.modules.head.Detect           [2, [128, 256, 512]]          \n",
            "Model summary: 225 layers, 11,136,374 parameters, 11,136,358 gradients, 28.6 GFLOPs\n",
            "\n",
            "Transferred 349/355 items from pretrained weights\n",
            "\u001b[34m\u001b[1mTensorBoard: \u001b[0mStart with 'tensorboard --logdir runs/detect/train3', view at http://localhost:6006/\n",
            "Freezing layer 'model.22.dfl.conv.weight'\n"
          ]
        },
        {
          "output_type": "stream",
          "name": "stderr",
          "text": [
            "\u001b[34m\u001b[1mtrain: \u001b[0mScanning /content/drive/MyDrive/Datasets/brain_tumor_dataset/labels/train... 893 images, 0 backgrounds, 0 corrupt: 100%|██████████| 893/893 [00:10<00:00, 84.15it/s] \n"
          ]
        },
        {
          "output_type": "stream",
          "name": "stdout",
          "text": [
            "\u001b[34m\u001b[1mtrain: \u001b[0mNew cache created: /content/drive/MyDrive/Datasets/brain_tumor_dataset/labels/train.cache\n",
            "\u001b[34m\u001b[1malbumentations: \u001b[0mBlur(p=0.01, blur_limit=(3, 7)), MedianBlur(p=0.01, blur_limit=(3, 7)), ToGray(p=0.01, num_output_channels=3, method='weighted_average'), CLAHE(p=0.01, clip_limit=(1.0, 4.0), tile_grid_size=(8, 8))\n"
          ]
        },
        {
          "output_type": "stream",
          "name": "stderr",
          "text": [
            "\u001b[34m\u001b[1mval: \u001b[0mScanning /content/drive/MyDrive/Datasets/brain_tumor_dataset/labels/val... 223 images, 0 backgrounds, 0 corrupt: 100%|██████████| 223/223 [00:02<00:00, 80.50it/s]\n"
          ]
        },
        {
          "output_type": "stream",
          "name": "stdout",
          "text": [
            "\u001b[34m\u001b[1mval: \u001b[0mNew cache created: /content/drive/MyDrive/Datasets/brain_tumor_dataset/labels/val.cache\n",
            "Plotting labels to runs/detect/train3/labels.jpg... \n",
            "\u001b[34m\u001b[1moptimizer:\u001b[0m 'optimizer=auto' found, ignoring 'lr0=0.01' and 'momentum=0.937' and determining best 'optimizer', 'lr0' and 'momentum' automatically... \n",
            "\u001b[34m\u001b[1moptimizer:\u001b[0m AdamW(lr=0.001667, momentum=0.9) with parameter groups 57 weight(decay=0.0), 64 weight(decay=0.0005), 63 bias(decay=0.0)\n",
            "\u001b[34m\u001b[1mTensorBoard: \u001b[0mmodel graph visualization added ✅\n",
            "Image sizes 640 train, 640 val\n",
            "Using 0 dataloader workers\n",
            "Logging results to \u001b[1mruns/detect/train3\u001b[0m\n",
            "Starting training for 50 epochs...\n",
            "\n",
            "      Epoch    GPU_mem   box_loss   cls_loss   dfl_loss  Instances       Size\n"
          ]
        },
        {
          "output_type": "stream",
          "name": "stderr",
          "text": [
            "       1/50         0G      2.494      3.747      2.304         17        640: 100%|██████████| 56/56 [09:55<00:00, 10.64s/it]\n",
            "                 Class     Images  Instances      Box(P          R      mAP50  mAP50-95): 100%|██████████| 7/7 [00:54<00:00,  7.73s/it]"
          ]
        },
        {
          "output_type": "stream",
          "name": "stdout",
          "text": [
            "                   all        223        223      0.125      0.247      0.102     0.0442\n"
          ]
        },
        {
          "output_type": "stream",
          "name": "stderr",
          "text": [
            "\n"
          ]
        },
        {
          "output_type": "stream",
          "name": "stdout",
          "text": [
            "\n",
            "      Epoch    GPU_mem   box_loss   cls_loss   dfl_loss  Instances       Size\n"
          ]
        },
        {
          "output_type": "stream",
          "name": "stderr",
          "text": [
            "       2/50         0G      2.166      2.698      2.138         24        640: 100%|██████████| 56/56 [09:48<00:00, 10.50s/it]\n",
            "                 Class     Images  Instances      Box(P          R      mAP50  mAP50-95): 100%|██████████| 7/7 [00:53<00:00,  7.60s/it]"
          ]
        },
        {
          "output_type": "stream",
          "name": "stdout",
          "text": [
            "                   all        223        223     0.0218      0.193    0.00916    0.00207\n"
          ]
        },
        {
          "output_type": "stream",
          "name": "stderr",
          "text": [
            "\n"
          ]
        },
        {
          "output_type": "stream",
          "name": "stdout",
          "text": [
            "\n",
            "      Epoch    GPU_mem   box_loss   cls_loss   dfl_loss  Instances       Size\n"
          ]
        },
        {
          "output_type": "stream",
          "name": "stderr",
          "text": [
            "       3/50         0G       2.03       2.57      2.144         20        640: 100%|██████████| 56/56 [09:46<00:00, 10.47s/it]\n",
            "                 Class     Images  Instances      Box(P          R      mAP50  mAP50-95): 100%|██████████| 7/7 [00:51<00:00,  7.34s/it]"
          ]
        },
        {
          "output_type": "stream",
          "name": "stdout",
          "text": [
            "                   all        223        223      0.263      0.332      0.262     0.0558\n"
          ]
        },
        {
          "output_type": "stream",
          "name": "stderr",
          "text": [
            "\n"
          ]
        },
        {
          "output_type": "stream",
          "name": "stdout",
          "text": [
            "\n",
            "      Epoch    GPU_mem   box_loss   cls_loss   dfl_loss  Instances       Size\n"
          ]
        },
        {
          "output_type": "stream",
          "name": "stderr",
          "text": [
            "       4/50         0G      2.026      2.404      2.106         24        640: 100%|██████████| 56/56 [09:42<00:00, 10.40s/it]\n",
            "                 Class     Images  Instances      Box(P          R      mAP50  mAP50-95): 100%|██████████| 7/7 [00:50<00:00,  7.16s/it]"
          ]
        },
        {
          "output_type": "stream",
          "name": "stdout",
          "text": [
            "                   all        223        223      0.169      0.148     0.0531     0.0194\n"
          ]
        },
        {
          "output_type": "stream",
          "name": "stderr",
          "text": [
            "\n"
          ]
        },
        {
          "output_type": "stream",
          "name": "stdout",
          "text": [
            "\n",
            "      Epoch    GPU_mem   box_loss   cls_loss   dfl_loss  Instances       Size\n"
          ]
        },
        {
          "output_type": "stream",
          "name": "stderr",
          "text": [
            "       5/50         0G      1.926      2.301      2.023         25        640: 100%|██████████| 56/56 [09:45<00:00, 10.45s/it]\n",
            "                 Class     Images  Instances      Box(P          R      mAP50  mAP50-95): 100%|██████████| 7/7 [00:53<00:00,  7.70s/it]"
          ]
        },
        {
          "output_type": "stream",
          "name": "stdout",
          "text": [
            "                   all        223        223      0.567      0.502      0.465      0.151\n"
          ]
        },
        {
          "output_type": "stream",
          "name": "stderr",
          "text": [
            "\n"
          ]
        },
        {
          "output_type": "stream",
          "name": "stdout",
          "text": [
            "\n",
            "      Epoch    GPU_mem   box_loss   cls_loss   dfl_loss  Instances       Size\n"
          ]
        },
        {
          "output_type": "stream",
          "name": "stderr",
          "text": [
            "       6/50         0G      1.908       2.26       2.04         28        640: 100%|██████████| 56/56 [09:48<00:00, 10.51s/it]\n",
            "                 Class     Images  Instances      Box(P          R      mAP50  mAP50-95): 100%|██████████| 7/7 [00:53<00:00,  7.61s/it]"
          ]
        },
        {
          "output_type": "stream",
          "name": "stdout",
          "text": [
            "                   all        223        223      0.359       0.22      0.265     0.0498\n"
          ]
        },
        {
          "output_type": "stream",
          "name": "stderr",
          "text": [
            "\n"
          ]
        },
        {
          "output_type": "stream",
          "name": "stdout",
          "text": [
            "\n",
            "      Epoch    GPU_mem   box_loss   cls_loss   dfl_loss  Instances       Size\n"
          ]
        },
        {
          "output_type": "stream",
          "name": "stderr",
          "text": [
            "       7/50         0G      1.857      2.203      2.027         25        640: 100%|██████████| 56/56 [09:49<00:00, 10.53s/it]\n",
            "                 Class     Images  Instances      Box(P          R      mAP50  mAP50-95): 100%|██████████| 7/7 [00:50<00:00,  7.23s/it]"
          ]
        },
        {
          "output_type": "stream",
          "name": "stdout",
          "text": [
            "                   all        223        223      0.364       0.57       0.39      0.136\n"
          ]
        },
        {
          "output_type": "stream",
          "name": "stderr",
          "text": [
            "\n"
          ]
        },
        {
          "output_type": "stream",
          "name": "stdout",
          "text": [
            "\n",
            "      Epoch    GPU_mem   box_loss   cls_loss   dfl_loss  Instances       Size\n"
          ]
        },
        {
          "output_type": "stream",
          "name": "stderr",
          "text": [
            "       8/50         0G      1.811      2.088      1.966         25        640: 100%|██████████| 56/56 [09:46<00:00, 10.47s/it]\n",
            "                 Class     Images  Instances      Box(P          R      mAP50  mAP50-95): 100%|██████████| 7/7 [00:51<00:00,  7.29s/it]"
          ]
        },
        {
          "output_type": "stream",
          "name": "stdout",
          "text": [
            "                   all        223        223      0.754      0.318      0.482      0.195\n"
          ]
        },
        {
          "output_type": "stream",
          "name": "stderr",
          "text": [
            "\n"
          ]
        },
        {
          "output_type": "stream",
          "name": "stdout",
          "text": [
            "\n",
            "      Epoch    GPU_mem   box_loss   cls_loss   dfl_loss  Instances       Size\n"
          ]
        },
        {
          "output_type": "stream",
          "name": "stderr",
          "text": [
            "       9/50         0G      1.794      2.142      1.927         22        640: 100%|██████████| 56/56 [09:45<00:00, 10.45s/it]\n",
            "                 Class     Images  Instances      Box(P          R      mAP50  mAP50-95): 100%|██████████| 7/7 [00:50<00:00,  7.28s/it]"
          ]
        },
        {
          "output_type": "stream",
          "name": "stdout",
          "text": [
            "                   all        223        223       0.64      0.381      0.486       0.16\n"
          ]
        },
        {
          "output_type": "stream",
          "name": "stderr",
          "text": [
            "\n"
          ]
        },
        {
          "output_type": "stream",
          "name": "stdout",
          "text": [
            "\n",
            "      Epoch    GPU_mem   box_loss   cls_loss   dfl_loss  Instances       Size\n"
          ]
        },
        {
          "output_type": "stream",
          "name": "stderr",
          "text": [
            "      10/50         0G        1.8      2.065      1.925         32        640: 100%|██████████| 56/56 [09:45<00:00, 10.45s/it]\n",
            "                 Class     Images  Instances      Box(P          R      mAP50  mAP50-95): 100%|██████████| 7/7 [00:50<00:00,  7.25s/it]"
          ]
        },
        {
          "output_type": "stream",
          "name": "stdout",
          "text": [
            "                   all        223        223      0.508      0.296      0.374      0.119\n"
          ]
        },
        {
          "output_type": "stream",
          "name": "stderr",
          "text": [
            "\n"
          ]
        },
        {
          "output_type": "stream",
          "name": "stdout",
          "text": [
            "\n",
            "      Epoch    GPU_mem   box_loss   cls_loss   dfl_loss  Instances       Size\n"
          ]
        },
        {
          "output_type": "stream",
          "name": "stderr",
          "text": [
            "      11/50         0G      1.777      1.974      1.907         20        640: 100%|██████████| 56/56 [09:44<00:00, 10.43s/it]\n",
            "                 Class     Images  Instances      Box(P          R      mAP50  mAP50-95): 100%|██████████| 7/7 [00:52<00:00,  7.52s/it]"
          ]
        },
        {
          "output_type": "stream",
          "name": "stdout",
          "text": [
            "                   all        223        223      0.436      0.525      0.467       0.16\n"
          ]
        },
        {
          "output_type": "stream",
          "name": "stderr",
          "text": [
            "\n"
          ]
        },
        {
          "output_type": "stream",
          "name": "stdout",
          "text": [
            "\n",
            "      Epoch    GPU_mem   box_loss   cls_loss   dfl_loss  Instances       Size\n"
          ]
        },
        {
          "output_type": "stream",
          "name": "stderr",
          "text": [
            "      12/50         0G      1.739      1.941      1.871         21        640: 100%|██████████| 56/56 [09:43<00:00, 10.42s/it]\n",
            "                 Class     Images  Instances      Box(P          R      mAP50  mAP50-95): 100%|██████████| 7/7 [00:50<00:00,  7.25s/it]"
          ]
        },
        {
          "output_type": "stream",
          "name": "stdout",
          "text": [
            "                   all        223        223      0.708      0.556      0.644      0.237\n"
          ]
        },
        {
          "output_type": "stream",
          "name": "stderr",
          "text": [
            "\n"
          ]
        },
        {
          "output_type": "stream",
          "name": "stdout",
          "text": [
            "\n",
            "      Epoch    GPU_mem   box_loss   cls_loss   dfl_loss  Instances       Size\n"
          ]
        },
        {
          "output_type": "stream",
          "name": "stderr",
          "text": [
            "      13/50         0G      1.701      1.859      1.806         21        640: 100%|██████████| 56/56 [09:44<00:00, 10.44s/it]\n",
            "                 Class     Images  Instances      Box(P          R      mAP50  mAP50-95): 100%|██████████| 7/7 [00:50<00:00,  7.18s/it]"
          ]
        },
        {
          "output_type": "stream",
          "name": "stdout",
          "text": [
            "                   all        223        223      0.551      0.453      0.571      0.215\n"
          ]
        },
        {
          "output_type": "stream",
          "name": "stderr",
          "text": [
            "\n"
          ]
        },
        {
          "output_type": "stream",
          "name": "stdout",
          "text": [
            "\n",
            "      Epoch    GPU_mem   box_loss   cls_loss   dfl_loss  Instances       Size\n"
          ]
        },
        {
          "output_type": "stream",
          "name": "stderr",
          "text": [
            "      14/50         0G      1.673      1.866      1.833         19        640: 100%|██████████| 56/56 [09:47<00:00, 10.49s/it]\n",
            "                 Class     Images  Instances      Box(P          R      mAP50  mAP50-95): 100%|██████████| 7/7 [00:50<00:00,  7.26s/it]"
          ]
        },
        {
          "output_type": "stream",
          "name": "stdout",
          "text": [
            "                   all        223        223      0.739      0.619      0.768       0.33\n"
          ]
        },
        {
          "output_type": "stream",
          "name": "stderr",
          "text": [
            "\n"
          ]
        },
        {
          "output_type": "stream",
          "name": "stdout",
          "text": [
            "\n",
            "      Epoch    GPU_mem   box_loss   cls_loss   dfl_loss  Instances       Size\n"
          ]
        },
        {
          "output_type": "stream",
          "name": "stderr",
          "text": [
            "      15/50         0G      1.688      1.828      1.821         21        640: 100%|██████████| 56/56 [09:43<00:00, 10.43s/it]\n",
            "                 Class     Images  Instances      Box(P          R      mAP50  mAP50-95): 100%|██████████| 7/7 [00:53<00:00,  7.68s/it]"
          ]
        },
        {
          "output_type": "stream",
          "name": "stdout",
          "text": [
            "                   all        223        223      0.667      0.556      0.647      0.255\n"
          ]
        },
        {
          "output_type": "stream",
          "name": "stderr",
          "text": [
            "\n"
          ]
        },
        {
          "output_type": "stream",
          "name": "stdout",
          "text": [
            "\n",
            "      Epoch    GPU_mem   box_loss   cls_loss   dfl_loss  Instances       Size\n"
          ]
        },
        {
          "output_type": "stream",
          "name": "stderr",
          "text": [
            "      16/50         0G      1.679      1.813      1.825         23        640: 100%|██████████| 56/56 [09:44<00:00, 10.43s/it]\n",
            "                 Class     Images  Instances      Box(P          R      mAP50  mAP50-95): 100%|██████████| 7/7 [00:50<00:00,  7.24s/it]"
          ]
        },
        {
          "output_type": "stream",
          "name": "stdout",
          "text": [
            "                   all        223        223      0.622      0.556      0.596      0.199\n"
          ]
        },
        {
          "output_type": "stream",
          "name": "stderr",
          "text": [
            "\n"
          ]
        },
        {
          "output_type": "stream",
          "name": "stdout",
          "text": [
            "\n",
            "      Epoch    GPU_mem   box_loss   cls_loss   dfl_loss  Instances       Size\n"
          ]
        },
        {
          "output_type": "stream",
          "name": "stderr",
          "text": [
            "      17/50         0G      1.644      1.809      1.801         29        640: 100%|██████████| 56/56 [09:42<00:00, 10.41s/it]\n",
            "                 Class     Images  Instances      Box(P          R      mAP50  mAP50-95): 100%|██████████| 7/7 [00:50<00:00,  7.15s/it]"
          ]
        },
        {
          "output_type": "stream",
          "name": "stdout",
          "text": [
            "                   all        223        223      0.586      0.502      0.559      0.218\n"
          ]
        },
        {
          "output_type": "stream",
          "name": "stderr",
          "text": [
            "\n"
          ]
        },
        {
          "output_type": "stream",
          "name": "stdout",
          "text": [
            "\n",
            "      Epoch    GPU_mem   box_loss   cls_loss   dfl_loss  Instances       Size\n"
          ]
        },
        {
          "output_type": "stream",
          "name": "stderr",
          "text": [
            "      18/50         0G      1.665      1.808      1.796         17        640: 100%|██████████| 56/56 [09:44<00:00, 10.44s/it]\n",
            "                 Class     Images  Instances      Box(P          R      mAP50  mAP50-95): 100%|██████████| 7/7 [00:54<00:00,  7.75s/it]"
          ]
        },
        {
          "output_type": "stream",
          "name": "stdout",
          "text": [
            "                   all        223        223      0.635      0.543      0.669      0.258\n"
          ]
        },
        {
          "output_type": "stream",
          "name": "stderr",
          "text": [
            "\n"
          ]
        },
        {
          "output_type": "stream",
          "name": "stdout",
          "text": [
            "\n",
            "      Epoch    GPU_mem   box_loss   cls_loss   dfl_loss  Instances       Size\n"
          ]
        },
        {
          "output_type": "stream",
          "name": "stderr",
          "text": [
            "      19/50         0G       1.65      1.739      1.786         31        640: 100%|██████████| 56/56 [09:44<00:00, 10.44s/it]\n",
            "                 Class     Images  Instances      Box(P          R      mAP50  mAP50-95): 100%|██████████| 7/7 [00:50<00:00,  7.18s/it]"
          ]
        },
        {
          "output_type": "stream",
          "name": "stdout",
          "text": [
            "                   all        223        223      0.722      0.592      0.688      0.244\n"
          ]
        },
        {
          "output_type": "stream",
          "name": "stderr",
          "text": [
            "\n"
          ]
        },
        {
          "output_type": "stream",
          "name": "stdout",
          "text": [
            "\n",
            "      Epoch    GPU_mem   box_loss   cls_loss   dfl_loss  Instances       Size\n"
          ]
        },
        {
          "output_type": "stream",
          "name": "stderr",
          "text": [
            "      20/50         0G      1.626      1.731      1.778         22        640: 100%|██████████| 56/56 [09:43<00:00, 10.42s/it]\n",
            "                 Class     Images  Instances      Box(P          R      mAP50  mAP50-95): 100%|██████████| 7/7 [00:54<00:00,  7.73s/it]"
          ]
        },
        {
          "output_type": "stream",
          "name": "stdout",
          "text": [
            "                   all        223        223      0.647      0.614      0.675      0.269\n"
          ]
        },
        {
          "output_type": "stream",
          "name": "stderr",
          "text": [
            "\n"
          ]
        },
        {
          "output_type": "stream",
          "name": "stdout",
          "text": [
            "\n",
            "      Epoch    GPU_mem   box_loss   cls_loss   dfl_loss  Instances       Size\n"
          ]
        },
        {
          "output_type": "stream",
          "name": "stderr",
          "text": [
            "      21/50         0G      1.626      1.745      1.751         25        640: 100%|██████████| 56/56 [09:42<00:00, 10.40s/it]\n",
            "                 Class     Images  Instances      Box(P          R      mAP50  mAP50-95): 100%|██████████| 7/7 [00:50<00:00,  7.26s/it]"
          ]
        },
        {
          "output_type": "stream",
          "name": "stdout",
          "text": [
            "                   all        223        223      0.705      0.713      0.721      0.294\n"
          ]
        },
        {
          "output_type": "stream",
          "name": "stderr",
          "text": [
            "\n"
          ]
        },
        {
          "output_type": "stream",
          "name": "stdout",
          "text": [
            "\n",
            "      Epoch    GPU_mem   box_loss   cls_loss   dfl_loss  Instances       Size\n"
          ]
        },
        {
          "output_type": "stream",
          "name": "stderr",
          "text": [
            "      22/50         0G      1.597      1.662      1.734         23        640: 100%|██████████| 56/56 [09:43<00:00, 10.42s/it]\n",
            "                 Class     Images  Instances      Box(P          R      mAP50  mAP50-95): 100%|██████████| 7/7 [00:49<00:00,  7.09s/it]"
          ]
        },
        {
          "output_type": "stream",
          "name": "stdout",
          "text": [
            "                   all        223        223      0.685      0.556      0.554      0.217\n"
          ]
        },
        {
          "output_type": "stream",
          "name": "stderr",
          "text": [
            "\n"
          ]
        },
        {
          "output_type": "stream",
          "name": "stdout",
          "text": [
            "\n",
            "      Epoch    GPU_mem   box_loss   cls_loss   dfl_loss  Instances       Size\n"
          ]
        },
        {
          "output_type": "stream",
          "name": "stderr",
          "text": [
            "      23/50         0G      1.605      1.625      1.736         22        640: 100%|██████████| 56/56 [09:41<00:00, 10.39s/it]\n",
            "                 Class     Images  Instances      Box(P          R      mAP50  mAP50-95): 100%|██████████| 7/7 [00:53<00:00,  7.59s/it]"
          ]
        },
        {
          "output_type": "stream",
          "name": "stdout",
          "text": [
            "                   all        223        223      0.732      0.475      0.606      0.188\n"
          ]
        },
        {
          "output_type": "stream",
          "name": "stderr",
          "text": [
            "\n"
          ]
        },
        {
          "output_type": "stream",
          "name": "stdout",
          "text": [
            "\n",
            "      Epoch    GPU_mem   box_loss   cls_loss   dfl_loss  Instances       Size\n"
          ]
        },
        {
          "output_type": "stream",
          "name": "stderr",
          "text": [
            "      24/50         0G      1.567      1.635      1.726         24        640: 100%|██████████| 56/56 [09:44<00:00, 10.44s/it]\n",
            "                 Class     Images  Instances      Box(P          R      mAP50  mAP50-95): 100%|██████████| 7/7 [00:51<00:00,  7.32s/it]"
          ]
        },
        {
          "output_type": "stream",
          "name": "stdout",
          "text": [
            "                   all        223        223        0.6      0.444      0.534      0.195\n"
          ]
        },
        {
          "output_type": "stream",
          "name": "stderr",
          "text": [
            "\n"
          ]
        },
        {
          "output_type": "stream",
          "name": "stdout",
          "text": [
            "\n",
            "      Epoch    GPU_mem   box_loss   cls_loss   dfl_loss  Instances       Size\n"
          ]
        },
        {
          "output_type": "stream",
          "name": "stderr",
          "text": [
            "      25/50         0G      1.596      1.641      1.734         24        640: 100%|██████████| 56/56 [09:44<00:00, 10.43s/it]\n",
            "                 Class     Images  Instances      Box(P          R      mAP50  mAP50-95): 100%|██████████| 7/7 [00:52<00:00,  7.50s/it]"
          ]
        },
        {
          "output_type": "stream",
          "name": "stdout",
          "text": [
            "                   all        223        223      0.709      0.634      0.664      0.251\n"
          ]
        },
        {
          "output_type": "stream",
          "name": "stderr",
          "text": [
            "\n"
          ]
        },
        {
          "output_type": "stream",
          "name": "stdout",
          "text": [
            "\n",
            "      Epoch    GPU_mem   box_loss   cls_loss   dfl_loss  Instances       Size\n"
          ]
        },
        {
          "output_type": "stream",
          "name": "stderr",
          "text": [
            "      26/50         0G      1.558      1.598      1.701         27        640: 100%|██████████| 56/56 [09:42<00:00, 10.40s/it]\n",
            "                 Class     Images  Instances      Box(P          R      mAP50  mAP50-95): 100%|██████████| 7/7 [00:50<00:00,  7.19s/it]"
          ]
        },
        {
          "output_type": "stream",
          "name": "stdout",
          "text": [
            "                   all        223        223      0.753      0.686      0.713      0.289\n"
          ]
        },
        {
          "output_type": "stream",
          "name": "stderr",
          "text": [
            "\n"
          ]
        },
        {
          "output_type": "stream",
          "name": "stdout",
          "text": [
            "\n",
            "      Epoch    GPU_mem   box_loss   cls_loss   dfl_loss  Instances       Size\n"
          ]
        },
        {
          "output_type": "stream",
          "name": "stderr",
          "text": [
            "      27/50         0G      1.592      1.566       1.72         19        640: 100%|██████████| 56/56 [09:43<00:00, 10.42s/it]\n",
            "                 Class     Images  Instances      Box(P          R      mAP50  mAP50-95): 100%|██████████| 7/7 [00:52<00:00,  7.45s/it]"
          ]
        },
        {
          "output_type": "stream",
          "name": "stdout",
          "text": [
            "                   all        223        223      0.647      0.668      0.696      0.299\n"
          ]
        },
        {
          "output_type": "stream",
          "name": "stderr",
          "text": [
            "\n"
          ]
        },
        {
          "output_type": "stream",
          "name": "stdout",
          "text": [
            "\n",
            "      Epoch    GPU_mem   box_loss   cls_loss   dfl_loss  Instances       Size\n"
          ]
        },
        {
          "output_type": "stream",
          "name": "stderr",
          "text": [
            "      28/50         0G      1.545      1.563      1.693         25        640: 100%|██████████| 56/56 [09:45<00:00, 10.45s/it]\n",
            "                 Class     Images  Instances      Box(P          R      mAP50  mAP50-95): 100%|██████████| 7/7 [00:52<00:00,  7.51s/it]"
          ]
        },
        {
          "output_type": "stream",
          "name": "stdout",
          "text": [
            "                   all        223        223      0.756      0.673      0.706      0.258\n"
          ]
        },
        {
          "output_type": "stream",
          "name": "stderr",
          "text": [
            "\n"
          ]
        },
        {
          "output_type": "stream",
          "name": "stdout",
          "text": [
            "\n",
            "      Epoch    GPU_mem   box_loss   cls_loss   dfl_loss  Instances       Size\n"
          ]
        },
        {
          "output_type": "stream",
          "name": "stderr",
          "text": [
            "      29/50         0G       1.58      1.533       1.71         27        640: 100%|██████████| 56/56 [09:39<00:00, 10.35s/it]\n",
            "                 Class     Images  Instances      Box(P          R      mAP50  mAP50-95): 100%|██████████| 7/7 [00:52<00:00,  7.57s/it]"
          ]
        },
        {
          "output_type": "stream",
          "name": "stdout",
          "text": [
            "                   all        223        223      0.714       0.67      0.701      0.235\n"
          ]
        },
        {
          "output_type": "stream",
          "name": "stderr",
          "text": [
            "\n"
          ]
        },
        {
          "output_type": "stream",
          "name": "stdout",
          "text": [
            "\n",
            "      Epoch    GPU_mem   box_loss   cls_loss   dfl_loss  Instances       Size\n"
          ]
        },
        {
          "output_type": "stream",
          "name": "stderr",
          "text": [
            "      30/50         0G      1.529      1.507      1.667         32        640: 100%|██████████| 56/56 [09:42<00:00, 10.41s/it]\n",
            "                 Class     Images  Instances      Box(P          R      mAP50  mAP50-95): 100%|██████████| 7/7 [00:53<00:00,  7.64s/it]"
          ]
        },
        {
          "output_type": "stream",
          "name": "stdout",
          "text": [
            "                   all        223        223      0.796      0.664      0.798       0.32\n"
          ]
        },
        {
          "output_type": "stream",
          "name": "stderr",
          "text": [
            "\n"
          ]
        },
        {
          "output_type": "stream",
          "name": "stdout",
          "text": [
            "\n",
            "      Epoch    GPU_mem   box_loss   cls_loss   dfl_loss  Instances       Size\n"
          ]
        },
        {
          "output_type": "stream",
          "name": "stderr",
          "text": [
            "      31/50         0G      1.531      1.522      1.674         24        640: 100%|██████████| 56/56 [09:43<00:00, 10.42s/it]\n",
            "                 Class     Images  Instances      Box(P          R      mAP50  mAP50-95): 100%|██████████| 7/7 [00:50<00:00,  7.27s/it]"
          ]
        },
        {
          "output_type": "stream",
          "name": "stdout",
          "text": [
            "                   all        223        223       0.61      0.653      0.642      0.205\n"
          ]
        },
        {
          "output_type": "stream",
          "name": "stderr",
          "text": [
            "\n"
          ]
        },
        {
          "output_type": "stream",
          "name": "stdout",
          "text": [
            "\n",
            "      Epoch    GPU_mem   box_loss   cls_loss   dfl_loss  Instances       Size\n"
          ]
        },
        {
          "output_type": "stream",
          "name": "stderr",
          "text": [
            "      32/50         0G      1.511      1.428       1.64         29        640: 100%|██████████| 56/56 [09:44<00:00, 10.44s/it]\n",
            "                 Class     Images  Instances      Box(P          R      mAP50  mAP50-95): 100%|██████████| 7/7 [00:52<00:00,  7.57s/it]"
          ]
        },
        {
          "output_type": "stream",
          "name": "stdout",
          "text": [
            "                   all        223        223      0.862      0.709      0.828      0.345\n"
          ]
        },
        {
          "output_type": "stream",
          "name": "stderr",
          "text": [
            "\n"
          ]
        },
        {
          "output_type": "stream",
          "name": "stdout",
          "text": [
            "\n",
            "      Epoch    GPU_mem   box_loss   cls_loss   dfl_loss  Instances       Size\n"
          ]
        },
        {
          "output_type": "stream",
          "name": "stderr",
          "text": [
            "      33/50         0G      1.485      1.425      1.634         17        640: 100%|██████████| 56/56 [09:46<00:00, 10.48s/it]\n",
            "                 Class     Images  Instances      Box(P          R      mAP50  mAP50-95): 100%|██████████| 7/7 [00:52<00:00,  7.51s/it]"
          ]
        },
        {
          "output_type": "stream",
          "name": "stdout",
          "text": [
            "                   all        223        223      0.802       0.71      0.812      0.354\n"
          ]
        },
        {
          "output_type": "stream",
          "name": "stderr",
          "text": [
            "\n"
          ]
        },
        {
          "output_type": "stream",
          "name": "stdout",
          "text": [
            "\n",
            "      Epoch    GPU_mem   box_loss   cls_loss   dfl_loss  Instances       Size\n"
          ]
        },
        {
          "output_type": "stream",
          "name": "stderr",
          "text": [
            "      34/50         0G       1.46       1.38      1.623         22        640: 100%|██████████| 56/56 [09:44<00:00, 10.44s/it]\n",
            "                 Class     Images  Instances      Box(P          R      mAP50  mAP50-95): 100%|██████████| 7/7 [00:49<00:00,  7.13s/it]"
          ]
        },
        {
          "output_type": "stream",
          "name": "stdout",
          "text": [
            "                   all        223        223      0.819      0.704      0.799      0.346\n"
          ]
        },
        {
          "output_type": "stream",
          "name": "stderr",
          "text": [
            "\n"
          ]
        },
        {
          "output_type": "stream",
          "name": "stdout",
          "text": [
            "\n",
            "      Epoch    GPU_mem   box_loss   cls_loss   dfl_loss  Instances       Size\n"
          ]
        },
        {
          "output_type": "stream",
          "name": "stderr",
          "text": [
            "      35/50         0G       1.44      1.349      1.588         27        640: 100%|██████████| 56/56 [09:44<00:00, 10.44s/it]\n",
            "                 Class     Images  Instances      Box(P          R      mAP50  mAP50-95): 100%|██████████| 7/7 [00:50<00:00,  7.17s/it]"
          ]
        },
        {
          "output_type": "stream",
          "name": "stdout",
          "text": [
            "                   all        223        223      0.802      0.727      0.811       0.34\n"
          ]
        },
        {
          "output_type": "stream",
          "name": "stderr",
          "text": [
            "\n"
          ]
        },
        {
          "output_type": "stream",
          "name": "stdout",
          "text": [
            "\n",
            "      Epoch    GPU_mem   box_loss   cls_loss   dfl_loss  Instances       Size\n"
          ]
        },
        {
          "output_type": "stream",
          "name": "stderr",
          "text": [
            "      36/50         0G      1.481      1.386      1.651         16        640: 100%|██████████| 56/56 [09:41<00:00, 10.39s/it]\n",
            "                 Class     Images  Instances      Box(P          R      mAP50  mAP50-95): 100%|██████████| 7/7 [00:52<00:00,  7.44s/it]"
          ]
        },
        {
          "output_type": "stream",
          "name": "stdout",
          "text": [
            "                   all        223        223      0.669      0.571      0.635      0.243\n"
          ]
        },
        {
          "output_type": "stream",
          "name": "stderr",
          "text": [
            "\n"
          ]
        },
        {
          "output_type": "stream",
          "name": "stdout",
          "text": [
            "\n",
            "      Epoch    GPU_mem   box_loss   cls_loss   dfl_loss  Instances       Size\n"
          ]
        },
        {
          "output_type": "stream",
          "name": "stderr",
          "text": [
            "      37/50         0G      1.454       1.39      1.612         25        640: 100%|██████████| 56/56 [09:42<00:00, 10.40s/it]\n",
            "                 Class     Images  Instances      Box(P          R      mAP50  mAP50-95): 100%|██████████| 7/7 [00:51<00:00,  7.42s/it]"
          ]
        },
        {
          "output_type": "stream",
          "name": "stdout",
          "text": [
            "                   all        223        223       0.72      0.722       0.76      0.292\n"
          ]
        },
        {
          "output_type": "stream",
          "name": "stderr",
          "text": [
            "\n"
          ]
        },
        {
          "output_type": "stream",
          "name": "stdout",
          "text": [
            "\n",
            "      Epoch    GPU_mem   box_loss   cls_loss   dfl_loss  Instances       Size\n"
          ]
        },
        {
          "output_type": "stream",
          "name": "stderr",
          "text": [
            "      38/50         0G      1.437      1.319      1.602         21        640: 100%|██████████| 56/56 [09:42<00:00, 10.41s/it]\n",
            "                 Class     Images  Instances      Box(P          R      mAP50  mAP50-95): 100%|██████████| 7/7 [00:50<00:00,  7.24s/it]"
          ]
        },
        {
          "output_type": "stream",
          "name": "stdout",
          "text": [
            "                   all        223        223      0.763      0.767      0.751      0.295\n"
          ]
        },
        {
          "output_type": "stream",
          "name": "stderr",
          "text": [
            "\n"
          ]
        },
        {
          "output_type": "stream",
          "name": "stdout",
          "text": [
            "\n",
            "      Epoch    GPU_mem   box_loss   cls_loss   dfl_loss  Instances       Size\n"
          ]
        },
        {
          "output_type": "stream",
          "name": "stderr",
          "text": [
            "      39/50         0G      1.413      1.326      1.593         20        640: 100%|██████████| 56/56 [09:40<00:00, 10.36s/it]\n",
            "                 Class     Images  Instances      Box(P          R      mAP50  mAP50-95): 100%|██████████| 7/7 [00:49<00:00,  7.09s/it]"
          ]
        },
        {
          "output_type": "stream",
          "name": "stdout",
          "text": [
            "                   all        223        223      0.747      0.673      0.719      0.277\n"
          ]
        },
        {
          "output_type": "stream",
          "name": "stderr",
          "text": [
            "\n"
          ]
        },
        {
          "output_type": "stream",
          "name": "stdout",
          "text": [
            "\n",
            "      Epoch    GPU_mem   box_loss   cls_loss   dfl_loss  Instances       Size\n"
          ]
        },
        {
          "output_type": "stream",
          "name": "stderr",
          "text": [
            "      40/50         0G      1.446      1.291      1.613         21        640: 100%|██████████| 56/56 [09:43<00:00, 10.43s/it]\n",
            "                 Class     Images  Instances      Box(P          R      mAP50  mAP50-95): 100%|██████████| 7/7 [00:50<00:00,  7.17s/it]"
          ]
        },
        {
          "output_type": "stream",
          "name": "stdout",
          "text": [
            "                   all        223        223      0.691        0.7      0.658      0.259\n"
          ]
        },
        {
          "output_type": "stream",
          "name": "stderr",
          "text": [
            "\n"
          ]
        },
        {
          "output_type": "stream",
          "name": "stdout",
          "text": [
            "Closing dataloader mosaic\n",
            "\u001b[34m\u001b[1malbumentations: \u001b[0mBlur(p=0.01, blur_limit=(3, 7)), MedianBlur(p=0.01, blur_limit=(3, 7)), ToGray(p=0.01, num_output_channels=3, method='weighted_average'), CLAHE(p=0.01, clip_limit=(1.0, 4.0), tile_grid_size=(8, 8))\n",
            "\n",
            "      Epoch    GPU_mem   box_loss   cls_loss   dfl_loss  Instances       Size\n"
          ]
        },
        {
          "output_type": "stream",
          "name": "stderr",
          "text": [
            "      41/50         0G      1.215      1.043      1.607         13        640: 100%|██████████| 56/56 [09:40<00:00, 10.37s/it]\n",
            "                 Class     Images  Instances      Box(P          R      mAP50  mAP50-95): 100%|██████████| 7/7 [00:50<00:00,  7.16s/it]"
          ]
        },
        {
          "output_type": "stream",
          "name": "stdout",
          "text": [
            "                   all        223        223      0.904      0.886      0.908      0.445\n"
          ]
        },
        {
          "output_type": "stream",
          "name": "stderr",
          "text": [
            "\n"
          ]
        },
        {
          "output_type": "stream",
          "name": "stdout",
          "text": [
            "\n",
            "      Epoch    GPU_mem   box_loss   cls_loss   dfl_loss  Instances       Size\n"
          ]
        },
        {
          "output_type": "stream",
          "name": "stderr",
          "text": [
            "      42/50         0G      1.112     0.8485      1.519         13        640: 100%|██████████| 56/56 [09:40<00:00, 10.37s/it]\n",
            "                 Class     Images  Instances      Box(P          R      mAP50  mAP50-95): 100%|██████████| 7/7 [00:56<00:00,  8.04s/it]"
          ]
        },
        {
          "output_type": "stream",
          "name": "stdout",
          "text": [
            "                   all        223        223      0.978      0.933      0.967      0.576\n"
          ]
        },
        {
          "output_type": "stream",
          "name": "stderr",
          "text": [
            "\n"
          ]
        },
        {
          "output_type": "stream",
          "name": "stdout",
          "text": [
            "\n",
            "      Epoch    GPU_mem   box_loss   cls_loss   dfl_loss  Instances       Size\n"
          ]
        },
        {
          "output_type": "stream",
          "name": "stderr",
          "text": [
            "      43/50         0G      1.006      0.783      1.441         13        640: 100%|██████████| 56/56 [09:36<00:00, 10.30s/it]\n",
            "                 Class     Images  Instances      Box(P          R      mAP50  mAP50-95): 100%|██████████| 7/7 [00:53<00:00,  7.68s/it]"
          ]
        },
        {
          "output_type": "stream",
          "name": "stdout",
          "text": [
            "                   all        223        223      0.958      0.928      0.972      0.636\n"
          ]
        },
        {
          "output_type": "stream",
          "name": "stderr",
          "text": [
            "\n"
          ]
        },
        {
          "output_type": "stream",
          "name": "stdout",
          "text": [
            "\n",
            "      Epoch    GPU_mem   box_loss   cls_loss   dfl_loss  Instances       Size\n"
          ]
        },
        {
          "output_type": "stream",
          "name": "stderr",
          "text": [
            "      44/50         0G     0.9476     0.7199      1.401         13        640: 100%|██████████| 56/56 [09:38<00:00, 10.32s/it]\n",
            "                 Class     Images  Instances      Box(P          R      mAP50  mAP50-95): 100%|██████████| 7/7 [00:50<00:00,  7.23s/it]"
          ]
        },
        {
          "output_type": "stream",
          "name": "stdout",
          "text": [
            "                   all        223        223      0.994      0.951      0.977      0.643\n"
          ]
        },
        {
          "output_type": "stream",
          "name": "stderr",
          "text": [
            "\n"
          ]
        },
        {
          "output_type": "stream",
          "name": "stdout",
          "text": [
            "\n",
            "      Epoch    GPU_mem   box_loss   cls_loss   dfl_loss  Instances       Size\n"
          ]
        },
        {
          "output_type": "stream",
          "name": "stderr",
          "text": [
            "      45/50         0G     0.9595      0.703      1.412         13        640: 100%|██████████| 56/56 [09:44<00:00, 10.44s/it]\n",
            "                 Class     Images  Instances      Box(P          R      mAP50  mAP50-95): 100%|██████████| 7/7 [00:52<00:00,  7.43s/it]"
          ]
        },
        {
          "output_type": "stream",
          "name": "stdout",
          "text": [
            "                   all        223        223      0.992       0.96      0.983      0.637\n"
          ]
        },
        {
          "output_type": "stream",
          "name": "stderr",
          "text": [
            "\n"
          ]
        },
        {
          "output_type": "stream",
          "name": "stdout",
          "text": [
            "\n",
            "      Epoch    GPU_mem   box_loss   cls_loss   dfl_loss  Instances       Size\n"
          ]
        },
        {
          "output_type": "stream",
          "name": "stderr",
          "text": [
            "      46/50         0G     0.9051     0.6608      1.364         13        640: 100%|██████████| 56/56 [09:41<00:00, 10.39s/it]\n",
            "                 Class     Images  Instances      Box(P          R      mAP50  mAP50-95): 100%|██████████| 7/7 [00:57<00:00,  8.17s/it]"
          ]
        },
        {
          "output_type": "stream",
          "name": "stdout",
          "text": [
            "                   all        223        223      0.982      0.956      0.985      0.664\n"
          ]
        },
        {
          "output_type": "stream",
          "name": "stderr",
          "text": [
            "\n"
          ]
        },
        {
          "output_type": "stream",
          "name": "stdout",
          "text": [
            "\n",
            "      Epoch    GPU_mem   box_loss   cls_loss   dfl_loss  Instances       Size\n"
          ]
        },
        {
          "output_type": "stream",
          "name": "stderr",
          "text": [
            "      47/50         0G     0.8633     0.6228      1.344         13        640: 100%|██████████| 56/56 [09:42<00:00, 10.40s/it]\n",
            "                 Class     Images  Instances      Box(P          R      mAP50  mAP50-95): 100%|██████████| 7/7 [00:52<00:00,  7.52s/it]"
          ]
        },
        {
          "output_type": "stream",
          "name": "stdout",
          "text": [
            "                   all        223        223      0.987      0.955      0.987      0.649\n"
          ]
        },
        {
          "output_type": "stream",
          "name": "stderr",
          "text": [
            "\n"
          ]
        },
        {
          "output_type": "stream",
          "name": "stdout",
          "text": [
            "\n",
            "      Epoch    GPU_mem   box_loss   cls_loss   dfl_loss  Instances       Size\n"
          ]
        },
        {
          "output_type": "stream",
          "name": "stderr",
          "text": [
            "      48/50         0G     0.8768      0.627      1.364         13        640: 100%|██████████| 56/56 [09:41<00:00, 10.39s/it]\n",
            "                 Class     Images  Instances      Box(P          R      mAP50  mAP50-95): 100%|██████████| 7/7 [00:52<00:00,  7.48s/it]"
          ]
        },
        {
          "output_type": "stream",
          "name": "stdout",
          "text": [
            "                   all        223        223      0.991      0.937      0.984      0.648\n"
          ]
        },
        {
          "output_type": "stream",
          "name": "stderr",
          "text": [
            "\n"
          ]
        },
        {
          "output_type": "stream",
          "name": "stdout",
          "text": [
            "\n",
            "      Epoch    GPU_mem   box_loss   cls_loss   dfl_loss  Instances       Size\n"
          ]
        },
        {
          "output_type": "stream",
          "name": "stderr",
          "text": [
            "      49/50         0G     0.8054      0.587      1.308         13        640: 100%|██████████| 56/56 [09:40<00:00, 10.36s/it]\n",
            "                 Class     Images  Instances      Box(P          R      mAP50  mAP50-95): 100%|██████████| 7/7 [00:53<00:00,  7.69s/it]"
          ]
        },
        {
          "output_type": "stream",
          "name": "stdout",
          "text": [
            "                   all        223        223      0.986      0.959      0.985      0.674\n"
          ]
        },
        {
          "output_type": "stream",
          "name": "stderr",
          "text": [
            "\n"
          ]
        },
        {
          "output_type": "stream",
          "name": "stdout",
          "text": [
            "\n",
            "      Epoch    GPU_mem   box_loss   cls_loss   dfl_loss  Instances       Size\n"
          ]
        },
        {
          "output_type": "stream",
          "name": "stderr",
          "text": [
            "      50/50         0G     0.7585     0.5632      1.267         13        640: 100%|██████████| 56/56 [09:41<00:00, 10.38s/it]\n",
            "                 Class     Images  Instances      Box(P          R      mAP50  mAP50-95): 100%|██████████| 7/7 [00:50<00:00,  7.25s/it]"
          ]
        },
        {
          "output_type": "stream",
          "name": "stdout",
          "text": [
            "                   all        223        223      0.982      0.968      0.988      0.678\n"
          ]
        },
        {
          "output_type": "stream",
          "name": "stderr",
          "text": [
            "\n"
          ]
        },
        {
          "output_type": "stream",
          "name": "stdout",
          "text": [
            "\n",
            "50 epochs completed in 8.844 hours.\n",
            "Optimizer stripped from runs/detect/train3/weights/last.pt, 22.5MB\n",
            "Optimizer stripped from runs/detect/train3/weights/best.pt, 22.5MB\n",
            "\n",
            "Validating runs/detect/train3/weights/best.pt...\n",
            "Ultralytics 8.3.55 🚀 Python-3.10.12 torch-2.5.1+cu121 CPU (Intel Xeon 2.20GHz)\n",
            "Model summary (fused): 168 layers, 11,126,358 parameters, 0 gradients, 28.4 GFLOPs\n"
          ]
        },
        {
          "output_type": "stream",
          "name": "stderr",
          "text": [
            "                 Class     Images  Instances      Box(P          R      mAP50  mAP50-95): 100%|██████████| 7/7 [00:47<00:00,  6.83s/it]\n"
          ]
        },
        {
          "output_type": "stream",
          "name": "stdout",
          "text": [
            "                   all        223        223      0.982      0.968      0.988      0.678\n",
            "                 tumor        223        223      0.982      0.968      0.988      0.678\n",
            "Speed: 1.0ms preprocess, 198.1ms inference, 0.0ms loss, 0.4ms postprocess per image\n",
            "Results saved to \u001b[1mruns/detect/train3\u001b[0m\n"
          ]
        },
        {
          "output_type": "execute_result",
          "data": {
            "text/plain": [
              "ultralytics.utils.metrics.DetMetrics object with attributes:\n",
              "\n",
              "ap_class_index: array([0])\n",
              "box: ultralytics.utils.metrics.Metric object\n",
              "confusion_matrix: <ultralytics.utils.metrics.ConfusionMatrix object at 0x7ac47ee43460>\n",
              "curves: ['Precision-Recall(B)', 'F1-Confidence(B)', 'Precision-Confidence(B)', 'Recall-Confidence(B)']\n",
              "curves_results: [[array([          0,    0.001001,    0.002002,    0.003003,    0.004004,    0.005005,    0.006006,    0.007007,    0.008008,    0.009009,     0.01001,    0.011011,    0.012012,    0.013013,    0.014014,    0.015015,    0.016016,    0.017017,    0.018018,    0.019019,     0.02002,    0.021021,    0.022022,    0.023023,\n",
              "          0.024024,    0.025025,    0.026026,    0.027027,    0.028028,    0.029029,     0.03003,    0.031031,    0.032032,    0.033033,    0.034034,    0.035035,    0.036036,    0.037037,    0.038038,    0.039039,     0.04004,    0.041041,    0.042042,    0.043043,    0.044044,    0.045045,    0.046046,    0.047047,\n",
              "          0.048048,    0.049049,     0.05005,    0.051051,    0.052052,    0.053053,    0.054054,    0.055055,    0.056056,    0.057057,    0.058058,    0.059059,     0.06006,    0.061061,    0.062062,    0.063063,    0.064064,    0.065065,    0.066066,    0.067067,    0.068068,    0.069069,     0.07007,    0.071071,\n",
              "          0.072072,    0.073073,    0.074074,    0.075075,    0.076076,    0.077077,    0.078078,    0.079079,     0.08008,    0.081081,    0.082082,    0.083083,    0.084084,    0.085085,    0.086086,    0.087087,    0.088088,    0.089089,     0.09009,    0.091091,    0.092092,    0.093093,    0.094094,    0.095095,\n",
              "          0.096096,    0.097097,    0.098098,    0.099099,      0.1001,      0.1011,      0.1021,      0.1031,      0.1041,     0.10511,     0.10611,     0.10711,     0.10811,     0.10911,     0.11011,     0.11111,     0.11211,     0.11311,     0.11411,     0.11512,     0.11612,     0.11712,     0.11812,     0.11912,\n",
              "           0.12012,     0.12112,     0.12212,     0.12312,     0.12412,     0.12513,     0.12613,     0.12713,     0.12813,     0.12913,     0.13013,     0.13113,     0.13213,     0.13313,     0.13413,     0.13514,     0.13614,     0.13714,     0.13814,     0.13914,     0.14014,     0.14114,     0.14214,     0.14314,\n",
              "           0.14414,     0.14515,     0.14615,     0.14715,     0.14815,     0.14915,     0.15015,     0.15115,     0.15215,     0.15315,     0.15415,     0.15516,     0.15616,     0.15716,     0.15816,     0.15916,     0.16016,     0.16116,     0.16216,     0.16316,     0.16416,     0.16517,     0.16617,     0.16717,\n",
              "           0.16817,     0.16917,     0.17017,     0.17117,     0.17217,     0.17317,     0.17417,     0.17518,     0.17618,     0.17718,     0.17818,     0.17918,     0.18018,     0.18118,     0.18218,     0.18318,     0.18418,     0.18519,     0.18619,     0.18719,     0.18819,     0.18919,     0.19019,     0.19119,\n",
              "           0.19219,     0.19319,     0.19419,      0.1952,      0.1962,      0.1972,      0.1982,      0.1992,      0.2002,      0.2012,      0.2022,      0.2032,      0.2042,     0.20521,     0.20621,     0.20721,     0.20821,     0.20921,     0.21021,     0.21121,     0.21221,     0.21321,     0.21421,     0.21522,\n",
              "           0.21622,     0.21722,     0.21822,     0.21922,     0.22022,     0.22122,     0.22222,     0.22322,     0.22422,     0.22523,     0.22623,     0.22723,     0.22823,     0.22923,     0.23023,     0.23123,     0.23223,     0.23323,     0.23423,     0.23524,     0.23624,     0.23724,     0.23824,     0.23924,\n",
              "           0.24024,     0.24124,     0.24224,     0.24324,     0.24424,     0.24525,     0.24625,     0.24725,     0.24825,     0.24925,     0.25025,     0.25125,     0.25225,     0.25325,     0.25425,     0.25526,     0.25626,     0.25726,     0.25826,     0.25926,     0.26026,     0.26126,     0.26226,     0.26326,\n",
              "           0.26426,     0.26527,     0.26627,     0.26727,     0.26827,     0.26927,     0.27027,     0.27127,     0.27227,     0.27327,     0.27427,     0.27528,     0.27628,     0.27728,     0.27828,     0.27928,     0.28028,     0.28128,     0.28228,     0.28328,     0.28428,     0.28529,     0.28629,     0.28729,\n",
              "           0.28829,     0.28929,     0.29029,     0.29129,     0.29229,     0.29329,     0.29429,      0.2953,      0.2963,      0.2973,      0.2983,      0.2993,      0.3003,      0.3013,      0.3023,      0.3033,      0.3043,     0.30531,     0.30631,     0.30731,     0.30831,     0.30931,     0.31031,     0.31131,\n",
              "           0.31231,     0.31331,     0.31431,     0.31532,     0.31632,     0.31732,     0.31832,     0.31932,     0.32032,     0.32132,     0.32232,     0.32332,     0.32432,     0.32533,     0.32633,     0.32733,     0.32833,     0.32933,     0.33033,     0.33133,     0.33233,     0.33333,     0.33433,     0.33534,\n",
              "           0.33634,     0.33734,     0.33834,     0.33934,     0.34034,     0.34134,     0.34234,     0.34334,     0.34434,     0.34535,     0.34635,     0.34735,     0.34835,     0.34935,     0.35035,     0.35135,     0.35235,     0.35335,     0.35435,     0.35536,     0.35636,     0.35736,     0.35836,     0.35936,\n",
              "           0.36036,     0.36136,     0.36236,     0.36336,     0.36436,     0.36537,     0.36637,     0.36737,     0.36837,     0.36937,     0.37037,     0.37137,     0.37237,     0.37337,     0.37437,     0.37538,     0.37638,     0.37738,     0.37838,     0.37938,     0.38038,     0.38138,     0.38238,     0.38338,\n",
              "           0.38438,     0.38539,     0.38639,     0.38739,     0.38839,     0.38939,     0.39039,     0.39139,     0.39239,     0.39339,     0.39439,      0.3954,      0.3964,      0.3974,      0.3984,      0.3994,      0.4004,      0.4014,      0.4024,      0.4034,      0.4044,     0.40541,     0.40641,     0.40741,\n",
              "           0.40841,     0.40941,     0.41041,     0.41141,     0.41241,     0.41341,     0.41441,     0.41542,     0.41642,     0.41742,     0.41842,     0.41942,     0.42042,     0.42142,     0.42242,     0.42342,     0.42442,     0.42543,     0.42643,     0.42743,     0.42843,     0.42943,     0.43043,     0.43143,\n",
              "           0.43243,     0.43343,     0.43443,     0.43544,     0.43644,     0.43744,     0.43844,     0.43944,     0.44044,     0.44144,     0.44244,     0.44344,     0.44444,     0.44545,     0.44645,     0.44745,     0.44845,     0.44945,     0.45045,     0.45145,     0.45245,     0.45345,     0.45445,     0.45546,\n",
              "           0.45646,     0.45746,     0.45846,     0.45946,     0.46046,     0.46146,     0.46246,     0.46346,     0.46446,     0.46547,     0.46647,     0.46747,     0.46847,     0.46947,     0.47047,     0.47147,     0.47247,     0.47347,     0.47447,     0.47548,     0.47648,     0.47748,     0.47848,     0.47948,\n",
              "           0.48048,     0.48148,     0.48248,     0.48348,     0.48448,     0.48549,     0.48649,     0.48749,     0.48849,     0.48949,     0.49049,     0.49149,     0.49249,     0.49349,     0.49449,      0.4955,      0.4965,      0.4975,      0.4985,      0.4995,      0.5005,      0.5015,      0.5025,      0.5035,\n",
              "            0.5045,     0.50551,     0.50651,     0.50751,     0.50851,     0.50951,     0.51051,     0.51151,     0.51251,     0.51351,     0.51451,     0.51552,     0.51652,     0.51752,     0.51852,     0.51952,     0.52052,     0.52152,     0.52252,     0.52352,     0.52452,     0.52553,     0.52653,     0.52753,\n",
              "           0.52853,     0.52953,     0.53053,     0.53153,     0.53253,     0.53353,     0.53453,     0.53554,     0.53654,     0.53754,     0.53854,     0.53954,     0.54054,     0.54154,     0.54254,     0.54354,     0.54454,     0.54555,     0.54655,     0.54755,     0.54855,     0.54955,     0.55055,     0.55155,\n",
              "           0.55255,     0.55355,     0.55455,     0.55556,     0.55656,     0.55756,     0.55856,     0.55956,     0.56056,     0.56156,     0.56256,     0.56356,     0.56456,     0.56557,     0.56657,     0.56757,     0.56857,     0.56957,     0.57057,     0.57157,     0.57257,     0.57357,     0.57457,     0.57558,\n",
              "           0.57658,     0.57758,     0.57858,     0.57958,     0.58058,     0.58158,     0.58258,     0.58358,     0.58458,     0.58559,     0.58659,     0.58759,     0.58859,     0.58959,     0.59059,     0.59159,     0.59259,     0.59359,     0.59459,      0.5956,      0.5966,      0.5976,      0.5986,      0.5996,\n",
              "            0.6006,      0.6016,      0.6026,      0.6036,      0.6046,     0.60561,     0.60661,     0.60761,     0.60861,     0.60961,     0.61061,     0.61161,     0.61261,     0.61361,     0.61461,     0.61562,     0.61662,     0.61762,     0.61862,     0.61962,     0.62062,     0.62162,     0.62262,     0.62362,\n",
              "           0.62462,     0.62563,     0.62663,     0.62763,     0.62863,     0.62963,     0.63063,     0.63163,     0.63263,     0.63363,     0.63463,     0.63564,     0.63664,     0.63764,     0.63864,     0.63964,     0.64064,     0.64164,     0.64264,     0.64364,     0.64464,     0.64565,     0.64665,     0.64765,\n",
              "           0.64865,     0.64965,     0.65065,     0.65165,     0.65265,     0.65365,     0.65465,     0.65566,     0.65666,     0.65766,     0.65866,     0.65966,     0.66066,     0.66166,     0.66266,     0.66366,     0.66466,     0.66567,     0.66667,     0.66767,     0.66867,     0.66967,     0.67067,     0.67167,\n",
              "           0.67267,     0.67367,     0.67467,     0.67568,     0.67668,     0.67768,     0.67868,     0.67968,     0.68068,     0.68168,     0.68268,     0.68368,     0.68468,     0.68569,     0.68669,     0.68769,     0.68869,     0.68969,     0.69069,     0.69169,     0.69269,     0.69369,     0.69469,      0.6957,\n",
              "            0.6967,      0.6977,      0.6987,      0.6997,      0.7007,      0.7017,      0.7027,      0.7037,      0.7047,     0.70571,     0.70671,     0.70771,     0.70871,     0.70971,     0.71071,     0.71171,     0.71271,     0.71371,     0.71471,     0.71572,     0.71672,     0.71772,     0.71872,     0.71972,\n",
              "           0.72072,     0.72172,     0.72272,     0.72372,     0.72472,     0.72573,     0.72673,     0.72773,     0.72873,     0.72973,     0.73073,     0.73173,     0.73273,     0.73373,     0.73473,     0.73574,     0.73674,     0.73774,     0.73874,     0.73974,     0.74074,     0.74174,     0.74274,     0.74374,\n",
              "           0.74474,     0.74575,     0.74675,     0.74775,     0.74875,     0.74975,     0.75075,     0.75175,     0.75275,     0.75375,     0.75475,     0.75576,     0.75676,     0.75776,     0.75876,     0.75976,     0.76076,     0.76176,     0.76276,     0.76376,     0.76476,     0.76577,     0.76677,     0.76777,\n",
              "           0.76877,     0.76977,     0.77077,     0.77177,     0.77277,     0.77377,     0.77477,     0.77578,     0.77678,     0.77778,     0.77878,     0.77978,     0.78078,     0.78178,     0.78278,     0.78378,     0.78478,     0.78579,     0.78679,     0.78779,     0.78879,     0.78979,     0.79079,     0.79179,\n",
              "           0.79279,     0.79379,     0.79479,      0.7958,      0.7968,      0.7978,      0.7988,      0.7998,      0.8008,      0.8018,      0.8028,      0.8038,      0.8048,     0.80581,     0.80681,     0.80781,     0.80881,     0.80981,     0.81081,     0.81181,     0.81281,     0.81381,     0.81481,     0.81582,\n",
              "           0.81682,     0.81782,     0.81882,     0.81982,     0.82082,     0.82182,     0.82282,     0.82382,     0.82482,     0.82583,     0.82683,     0.82783,     0.82883,     0.82983,     0.83083,     0.83183,     0.83283,     0.83383,     0.83483,     0.83584,     0.83684,     0.83784,     0.83884,     0.83984,\n",
              "           0.84084,     0.84184,     0.84284,     0.84384,     0.84484,     0.84585,     0.84685,     0.84785,     0.84885,     0.84985,     0.85085,     0.85185,     0.85285,     0.85385,     0.85485,     0.85586,     0.85686,     0.85786,     0.85886,     0.85986,     0.86086,     0.86186,     0.86286,     0.86386,\n",
              "           0.86486,     0.86587,     0.86687,     0.86787,     0.86887,     0.86987,     0.87087,     0.87187,     0.87287,     0.87387,     0.87487,     0.87588,     0.87688,     0.87788,     0.87888,     0.87988,     0.88088,     0.88188,     0.88288,     0.88388,     0.88488,     0.88589,     0.88689,     0.88789,\n",
              "           0.88889,     0.88989,     0.89089,     0.89189,     0.89289,     0.89389,     0.89489,      0.8959,      0.8969,      0.8979,      0.8989,      0.8999,      0.9009,      0.9019,      0.9029,      0.9039,      0.9049,     0.90591,     0.90691,     0.90791,     0.90891,     0.90991,     0.91091,     0.91191,\n",
              "           0.91291,     0.91391,     0.91491,     0.91592,     0.91692,     0.91792,     0.91892,     0.91992,     0.92092,     0.92192,     0.92292,     0.92392,     0.92492,     0.92593,     0.92693,     0.92793,     0.92893,     0.92993,     0.93093,     0.93193,     0.93293,     0.93393,     0.93493,     0.93594,\n",
              "           0.93694,     0.93794,     0.93894,     0.93994,     0.94094,     0.94194,     0.94294,     0.94394,     0.94494,     0.94595,     0.94695,     0.94795,     0.94895,     0.94995,     0.95095,     0.95195,     0.95295,     0.95395,     0.95495,     0.95596,     0.95696,     0.95796,     0.95896,     0.95996,\n",
              "           0.96096,     0.96196,     0.96296,     0.96396,     0.96496,     0.96597,     0.96697,     0.96797,     0.96897,     0.96997,     0.97097,     0.97197,     0.97297,     0.97397,     0.97497,     0.97598,     0.97698,     0.97798,     0.97898,     0.97998,     0.98098,     0.98198,     0.98298,     0.98398,\n",
              "           0.98498,     0.98599,     0.98699,     0.98799,     0.98899,     0.98999,     0.99099,     0.99199,     0.99299,     0.99399,     0.99499,       0.996,       0.997,       0.998,       0.999,           1]), array([[          1,           1,           1,           1,           1,           1,           1,           1,           1,           1,           1,           1,           1,           1,           1,           1,           1,           1,           1,           1,           1,           1,           1,\n",
              "                  1,           1,           1,           1,           1,           1,           1,           1,           1,           1,           1,           1,           1,           1,           1,           1,           1,           1,           1,           1,           1,           1,           1,\n",
              "                  1,           1,           1,           1,           1,           1,           1,           1,           1,           1,           1,           1,           1,           1,           1,           1,           1,           1,           1,           1,           1,           1,           1,\n",
              "                  1,           1,           1,           1,           1,           1,           1,           1,           1,           1,           1,           1,           1,           1,           1,           1,           1,           1,           1,           1,           1,           1,           1,\n",
              "                  1,           1,           1,           1,           1,           1,           1,           1,           1,           1,           1,           1,           1,           1,           1,           1,           1,           1,           1,           1,           1,           1,           1,\n",
              "                  1,           1,           1,           1,           1,           1,           1,           1,           1,           1,           1,           1,           1,           1,           1,           1,           1,           1,           1,           1,           1,           1,           1,\n",
              "                  1,           1,           1,           1,           1,           1,           1,           1,           1,           1,           1,           1,           1,           1,           1,           1,           1,           1,           1,           1,           1,           1,           1,\n",
              "                  1,           1,           1,           1,           1,           1,           1,           1,           1,           1,           1,           1,           1,           1,           1,           1,           1,           1,           1,           1,           1,           1,           1,\n",
              "                  1,           1,           1,           1,           1,           1,           1,           1,           1,           1,           1,           1,           1,           1,           1,           1,           1,           1,           1,           1,           1,           1,           1,\n",
              "                  1,           1,           1,           1,           1,           1,           1,           1,           1,           1,           1,           1,           1,           1,           1,           1,           1,           1,           1,           1,           1,           1,           1,\n",
              "                  1,           1,           1,           1,           1,           1,           1,           1,           1,           1,           1,           1,           1,           1,           1,           1,           1,           1,           1,           1,           1,           1,           1,\n",
              "                  1,           1,           1,           1,           1,           1,           1,           1,           1,           1,           1,           1,           1,           1,           1,           1,           1,           1,           1,           1,           1,           1,           1,\n",
              "                  1,           1,           1,           1,           1,           1,           1,           1,           1,           1,           1,           1,           1,           1,           1,           1,           1,           1,           1,           1,           1,           1,           1,\n",
              "                  1,           1,           1,           1,           1,           1,           1,           1,           1,           1,           1,           1,           1,           1,           1,           1,           1,           1,           1,           1,           1,           1,           1,\n",
              "                  1,           1,           1,           1,           1,           1,           1,           1,           1,           1,           1,           1,           1,           1,           1,           1,           1,           1,           1,           1,           1,           1,           1,\n",
              "                  1,           1,           1,           1,           1,           1,           1,           1,           1,           1,           1,           1,           1,           1,           1,           1,           1,           1,           1,           1,           1,           1,           1,\n",
              "                  1,           1,           1,           1,           1,           1,           1,           1,           1,           1,           1,           1,           1,           1,           1,           1,           1,           1,           1,           1,           1,           1,           1,\n",
              "                  1,           1,           1,           1,           1,           1,           1,           1,           1,           1,           1,           1,           1,           1,           1,           1,           1,           1,           1,           1,           1,           1,           1,\n",
              "                  1,           1,           1,           1,           1,           1,           1,           1,           1,           1,           1,           1,           1,           1,           1,           1,           1,           1,           1,           1,           1,           1,           1,\n",
              "                  1,           1,           1,           1,           1,           1,           1,           1,           1,           1,           1,           1,           1,           1,           1,           1,           1,           1,           1,           1,           1,           1,           1,\n",
              "                  1,           1,           1,           1,           1,           1,           1,           1,           1,           1,           1,           1,           1,           1,           1,           1,           1,           1,           1,           1,           1,           1,           1,\n",
              "                  1,           1,           1,           1,           1,           1,           1,           1,           1,           1,           1,           1,           1,           1,           1,           1,           1,           1,           1,           1,           1,           1,           1,\n",
              "                  1,           1,           1,           1,           1,           1,           1,           1,           1,           1,           1,           1,           1,           1,           1,           1,           1,           1,           1,           1,           1,           1,           1,\n",
              "                  1,           1,           1,           1,           1,           1,           1,           1,           1,           1,           1,           1,           1,           1,           1,           1,           1,           1,           1,           1,           1,           1,           1,\n",
              "                  1,           1,           1,           1,           1,           1,           1,           1,           1,           1,           1,           1,           1,           1,           1,           1,           1,           1,           1,           1,           1,           1,           1,\n",
              "                  1,           1,           1,           1,           1,           1,           1,           1,           1,           1,           1,           1,           1,           1,           1,           1,           1,           1,           1,           1,           1,           1,           1,\n",
              "                  1,           1,           1,           1,           1,           1,           1,           1,           1,           1,           1,           1,           1,           1,           1,           1,           1,           1,           1,           1,           1,           1,           1,\n",
              "                  1,           1,           1,           1,           1,           1,           1,           1,           1,           1,           1,           1,           1,           1,           1,           1,           1,           1,           1,           1,           1,           1,           1,\n",
              "                  1,           1,           1,           1,           1,           1,           1,           1,           1,           1,           1,           1,           1,           1,           1,           1,           1,           1,           1,           1,           1,           1,           1,\n",
              "                  1,           1,           1,           1,           1,           1,           1,           1,           1,           1,           1,           1,           1,           1,           1,           1,           1,           1,           1,           1,           1,           1,           1,\n",
              "                  1,           1,           1,           1,           1,           1,           1,           1,           1,           1,           1,           1,           1,           1,           1,           1,           1,           1,           1,           1,           1,           1,           1,\n",
              "                  1,           1,           1,           1,           1,           1,           1,           1,           1,           1,           1,           1,           1,           1,           1,           1,           1,           1,           1,           1,           1,           1,           1,\n",
              "                  1,           1,           1,           1,           1,           1,           1,           1,           1,           1,           1,           1,           1,           1,           1,           1,           1,           1,           1,           1,           1,           1,           1,\n",
              "                  1,           1,           1,           1,           1,           1,           1,           1,           1,           1,           1,           1,           1,           1,           1,           1,           1,           1,           1,           1,           1,           1,           1,\n",
              "                  1,           1,           1,           1,           1,           1,           1,           1,           1,           1,           1,           1,           1,           1,           1,           1,           1,           1,           1,           1,           1,           1,           1,\n",
              "                  1,           1,           1,           1,           1,           1,           1,           1,           1,           1,           1,           1,           1,           1,           1,           1,           1,           1,           1,           1,           1,           1,           1,\n",
              "                  1,           1,           1,           1,           1,           1,           1,           1,           1,           1,           1,           1,           1,           1,           1,           1,           1,           1,           1,           1,           1,           1,           1,\n",
              "                  1,           1,           1,           1,           1,           1,           1,           1,           1,           1,           1,           1,           1,           1,           1,           1,           1,           1,           1,           1,           1,           1,           1,\n",
              "                  1,           1,           1,           1,           1,           1,           1,           1,           1,           1,           1,           1,           1,           1,           1,           1,           1,           1,           1,           1,           1,           1,           1,\n",
              "                  1,           1,           1,           1,           1,           1,           1,           1,           1,           1,           1,           1,           1,     0.99528,     0.99528,     0.99528,     0.99528,     0.99528,     0.99528,     0.99528,     0.99528,     0.99528,     0.99528,\n",
              "            0.99528,     0.99528,     0.99528,     0.99528,     0.99528,     0.99528,     0.99528,     0.99528,     0.99528,     0.99528,     0.99528,     0.99528,     0.99528,     0.99528,     0.99528,     0.99528,     0.99528,     0.99528,     0.99528,     0.99528,     0.99528,     0.99528,     0.99528,\n",
              "            0.99528,     0.99528,     0.99528,      0.9907,      0.9907,      0.9907,      0.9907,      0.9907,      0.9907,      0.9907,      0.9907,      0.9907,     0.98182,     0.98182,     0.98182,     0.98182,     0.98182,     0.98182,     0.98182,     0.98182,     0.98182,     0.98182,     0.98182,\n",
              "            0.98182,     0.98182,     0.96444,     0.96444,     0.96444,     0.96444,     0.96444,     0.89344,     0.89344,     0.89344,     0.89344,     0.82022,     0.82022,     0.82022,     0.82022,     0.82022,     0.58355,     0.58355,     0.58355,     0.58355,     0.54975,     0.54975,     0.54975,\n",
              "            0.54975,     0.54975,     0.42045,     0.42045,     0.42045,     0.42045,     0.35651,     0.26739,     0.17826,    0.089129,           0]]), 'Recall', 'Precision'], [array([          0,    0.001001,    0.002002,    0.003003,    0.004004,    0.005005,    0.006006,    0.007007,    0.008008,    0.009009,     0.01001,    0.011011,    0.012012,    0.013013,    0.014014,    0.015015,    0.016016,    0.017017,    0.018018,    0.019019,     0.02002,    0.021021,    0.022022,    0.023023,\n",
              "          0.024024,    0.025025,    0.026026,    0.027027,    0.028028,    0.029029,     0.03003,    0.031031,    0.032032,    0.033033,    0.034034,    0.035035,    0.036036,    0.037037,    0.038038,    0.039039,     0.04004,    0.041041,    0.042042,    0.043043,    0.044044,    0.045045,    0.046046,    0.047047,\n",
              "          0.048048,    0.049049,     0.05005,    0.051051,    0.052052,    0.053053,    0.054054,    0.055055,    0.056056,    0.057057,    0.058058,    0.059059,     0.06006,    0.061061,    0.062062,    0.063063,    0.064064,    0.065065,    0.066066,    0.067067,    0.068068,    0.069069,     0.07007,    0.071071,\n",
              "          0.072072,    0.073073,    0.074074,    0.075075,    0.076076,    0.077077,    0.078078,    0.079079,     0.08008,    0.081081,    0.082082,    0.083083,    0.084084,    0.085085,    0.086086,    0.087087,    0.088088,    0.089089,     0.09009,    0.091091,    0.092092,    0.093093,    0.094094,    0.095095,\n",
              "          0.096096,    0.097097,    0.098098,    0.099099,      0.1001,      0.1011,      0.1021,      0.1031,      0.1041,     0.10511,     0.10611,     0.10711,     0.10811,     0.10911,     0.11011,     0.11111,     0.11211,     0.11311,     0.11411,     0.11512,     0.11612,     0.11712,     0.11812,     0.11912,\n",
              "           0.12012,     0.12112,     0.12212,     0.12312,     0.12412,     0.12513,     0.12613,     0.12713,     0.12813,     0.12913,     0.13013,     0.13113,     0.13213,     0.13313,     0.13413,     0.13514,     0.13614,     0.13714,     0.13814,     0.13914,     0.14014,     0.14114,     0.14214,     0.14314,\n",
              "           0.14414,     0.14515,     0.14615,     0.14715,     0.14815,     0.14915,     0.15015,     0.15115,     0.15215,     0.15315,     0.15415,     0.15516,     0.15616,     0.15716,     0.15816,     0.15916,     0.16016,     0.16116,     0.16216,     0.16316,     0.16416,     0.16517,     0.16617,     0.16717,\n",
              "           0.16817,     0.16917,     0.17017,     0.17117,     0.17217,     0.17317,     0.17417,     0.17518,     0.17618,     0.17718,     0.17818,     0.17918,     0.18018,     0.18118,     0.18218,     0.18318,     0.18418,     0.18519,     0.18619,     0.18719,     0.18819,     0.18919,     0.19019,     0.19119,\n",
              "           0.19219,     0.19319,     0.19419,      0.1952,      0.1962,      0.1972,      0.1982,      0.1992,      0.2002,      0.2012,      0.2022,      0.2032,      0.2042,     0.20521,     0.20621,     0.20721,     0.20821,     0.20921,     0.21021,     0.21121,     0.21221,     0.21321,     0.21421,     0.21522,\n",
              "           0.21622,     0.21722,     0.21822,     0.21922,     0.22022,     0.22122,     0.22222,     0.22322,     0.22422,     0.22523,     0.22623,     0.22723,     0.22823,     0.22923,     0.23023,     0.23123,     0.23223,     0.23323,     0.23423,     0.23524,     0.23624,     0.23724,     0.23824,     0.23924,\n",
              "           0.24024,     0.24124,     0.24224,     0.24324,     0.24424,     0.24525,     0.24625,     0.24725,     0.24825,     0.24925,     0.25025,     0.25125,     0.25225,     0.25325,     0.25425,     0.25526,     0.25626,     0.25726,     0.25826,     0.25926,     0.26026,     0.26126,     0.26226,     0.26326,\n",
              "           0.26426,     0.26527,     0.26627,     0.26727,     0.26827,     0.26927,     0.27027,     0.27127,     0.27227,     0.27327,     0.27427,     0.27528,     0.27628,     0.27728,     0.27828,     0.27928,     0.28028,     0.28128,     0.28228,     0.28328,     0.28428,     0.28529,     0.28629,     0.28729,\n",
              "           0.28829,     0.28929,     0.29029,     0.29129,     0.29229,     0.29329,     0.29429,      0.2953,      0.2963,      0.2973,      0.2983,      0.2993,      0.3003,      0.3013,      0.3023,      0.3033,      0.3043,     0.30531,     0.30631,     0.30731,     0.30831,     0.30931,     0.31031,     0.31131,\n",
              "           0.31231,     0.31331,     0.31431,     0.31532,     0.31632,     0.31732,     0.31832,     0.31932,     0.32032,     0.32132,     0.32232,     0.32332,     0.32432,     0.32533,     0.32633,     0.32733,     0.32833,     0.32933,     0.33033,     0.33133,     0.33233,     0.33333,     0.33433,     0.33534,\n",
              "           0.33634,     0.33734,     0.33834,     0.33934,     0.34034,     0.34134,     0.34234,     0.34334,     0.34434,     0.34535,     0.34635,     0.34735,     0.34835,     0.34935,     0.35035,     0.35135,     0.35235,     0.35335,     0.35435,     0.35536,     0.35636,     0.35736,     0.35836,     0.35936,\n",
              "           0.36036,     0.36136,     0.36236,     0.36336,     0.36436,     0.36537,     0.36637,     0.36737,     0.36837,     0.36937,     0.37037,     0.37137,     0.37237,     0.37337,     0.37437,     0.37538,     0.37638,     0.37738,     0.37838,     0.37938,     0.38038,     0.38138,     0.38238,     0.38338,\n",
              "           0.38438,     0.38539,     0.38639,     0.38739,     0.38839,     0.38939,     0.39039,     0.39139,     0.39239,     0.39339,     0.39439,      0.3954,      0.3964,      0.3974,      0.3984,      0.3994,      0.4004,      0.4014,      0.4024,      0.4034,      0.4044,     0.40541,     0.40641,     0.40741,\n",
              "           0.40841,     0.40941,     0.41041,     0.41141,     0.41241,     0.41341,     0.41441,     0.41542,     0.41642,     0.41742,     0.41842,     0.41942,     0.42042,     0.42142,     0.42242,     0.42342,     0.42442,     0.42543,     0.42643,     0.42743,     0.42843,     0.42943,     0.43043,     0.43143,\n",
              "           0.43243,     0.43343,     0.43443,     0.43544,     0.43644,     0.43744,     0.43844,     0.43944,     0.44044,     0.44144,     0.44244,     0.44344,     0.44444,     0.44545,     0.44645,     0.44745,     0.44845,     0.44945,     0.45045,     0.45145,     0.45245,     0.45345,     0.45445,     0.45546,\n",
              "           0.45646,     0.45746,     0.45846,     0.45946,     0.46046,     0.46146,     0.46246,     0.46346,     0.46446,     0.46547,     0.46647,     0.46747,     0.46847,     0.46947,     0.47047,     0.47147,     0.47247,     0.47347,     0.47447,     0.47548,     0.47648,     0.47748,     0.47848,     0.47948,\n",
              "           0.48048,     0.48148,     0.48248,     0.48348,     0.48448,     0.48549,     0.48649,     0.48749,     0.48849,     0.48949,     0.49049,     0.49149,     0.49249,     0.49349,     0.49449,      0.4955,      0.4965,      0.4975,      0.4985,      0.4995,      0.5005,      0.5015,      0.5025,      0.5035,\n",
              "            0.5045,     0.50551,     0.50651,     0.50751,     0.50851,     0.50951,     0.51051,     0.51151,     0.51251,     0.51351,     0.51451,     0.51552,     0.51652,     0.51752,     0.51852,     0.51952,     0.52052,     0.52152,     0.52252,     0.52352,     0.52452,     0.52553,     0.52653,     0.52753,\n",
              "           0.52853,     0.52953,     0.53053,     0.53153,     0.53253,     0.53353,     0.53453,     0.53554,     0.53654,     0.53754,     0.53854,     0.53954,     0.54054,     0.54154,     0.54254,     0.54354,     0.54454,     0.54555,     0.54655,     0.54755,     0.54855,     0.54955,     0.55055,     0.55155,\n",
              "           0.55255,     0.55355,     0.55455,     0.55556,     0.55656,     0.55756,     0.55856,     0.55956,     0.56056,     0.56156,     0.56256,     0.56356,     0.56456,     0.56557,     0.56657,     0.56757,     0.56857,     0.56957,     0.57057,     0.57157,     0.57257,     0.57357,     0.57457,     0.57558,\n",
              "           0.57658,     0.57758,     0.57858,     0.57958,     0.58058,     0.58158,     0.58258,     0.58358,     0.58458,     0.58559,     0.58659,     0.58759,     0.58859,     0.58959,     0.59059,     0.59159,     0.59259,     0.59359,     0.59459,      0.5956,      0.5966,      0.5976,      0.5986,      0.5996,\n",
              "            0.6006,      0.6016,      0.6026,      0.6036,      0.6046,     0.60561,     0.60661,     0.60761,     0.60861,     0.60961,     0.61061,     0.61161,     0.61261,     0.61361,     0.61461,     0.61562,     0.61662,     0.61762,     0.61862,     0.61962,     0.62062,     0.62162,     0.62262,     0.62362,\n",
              "           0.62462,     0.62563,     0.62663,     0.62763,     0.62863,     0.62963,     0.63063,     0.63163,     0.63263,     0.63363,     0.63463,     0.63564,     0.63664,     0.63764,     0.63864,     0.63964,     0.64064,     0.64164,     0.64264,     0.64364,     0.64464,     0.64565,     0.64665,     0.64765,\n",
              "           0.64865,     0.64965,     0.65065,     0.65165,     0.65265,     0.65365,     0.65465,     0.65566,     0.65666,     0.65766,     0.65866,     0.65966,     0.66066,     0.66166,     0.66266,     0.66366,     0.66466,     0.66567,     0.66667,     0.66767,     0.66867,     0.66967,     0.67067,     0.67167,\n",
              "           0.67267,     0.67367,     0.67467,     0.67568,     0.67668,     0.67768,     0.67868,     0.67968,     0.68068,     0.68168,     0.68268,     0.68368,     0.68468,     0.68569,     0.68669,     0.68769,     0.68869,     0.68969,     0.69069,     0.69169,     0.69269,     0.69369,     0.69469,      0.6957,\n",
              "            0.6967,      0.6977,      0.6987,      0.6997,      0.7007,      0.7017,      0.7027,      0.7037,      0.7047,     0.70571,     0.70671,     0.70771,     0.70871,     0.70971,     0.71071,     0.71171,     0.71271,     0.71371,     0.71471,     0.71572,     0.71672,     0.71772,     0.71872,     0.71972,\n",
              "           0.72072,     0.72172,     0.72272,     0.72372,     0.72472,     0.72573,     0.72673,     0.72773,     0.72873,     0.72973,     0.73073,     0.73173,     0.73273,     0.73373,     0.73473,     0.73574,     0.73674,     0.73774,     0.73874,     0.73974,     0.74074,     0.74174,     0.74274,     0.74374,\n",
              "           0.74474,     0.74575,     0.74675,     0.74775,     0.74875,     0.74975,     0.75075,     0.75175,     0.75275,     0.75375,     0.75475,     0.75576,     0.75676,     0.75776,     0.75876,     0.75976,     0.76076,     0.76176,     0.76276,     0.76376,     0.76476,     0.76577,     0.76677,     0.76777,\n",
              "           0.76877,     0.76977,     0.77077,     0.77177,     0.77277,     0.77377,     0.77477,     0.77578,     0.77678,     0.77778,     0.77878,     0.77978,     0.78078,     0.78178,     0.78278,     0.78378,     0.78478,     0.78579,     0.78679,     0.78779,     0.78879,     0.78979,     0.79079,     0.79179,\n",
              "           0.79279,     0.79379,     0.79479,      0.7958,      0.7968,      0.7978,      0.7988,      0.7998,      0.8008,      0.8018,      0.8028,      0.8038,      0.8048,     0.80581,     0.80681,     0.80781,     0.80881,     0.80981,     0.81081,     0.81181,     0.81281,     0.81381,     0.81481,     0.81582,\n",
              "           0.81682,     0.81782,     0.81882,     0.81982,     0.82082,     0.82182,     0.82282,     0.82382,     0.82482,     0.82583,     0.82683,     0.82783,     0.82883,     0.82983,     0.83083,     0.83183,     0.83283,     0.83383,     0.83483,     0.83584,     0.83684,     0.83784,     0.83884,     0.83984,\n",
              "           0.84084,     0.84184,     0.84284,     0.84384,     0.84484,     0.84585,     0.84685,     0.84785,     0.84885,     0.84985,     0.85085,     0.85185,     0.85285,     0.85385,     0.85485,     0.85586,     0.85686,     0.85786,     0.85886,     0.85986,     0.86086,     0.86186,     0.86286,     0.86386,\n",
              "           0.86486,     0.86587,     0.86687,     0.86787,     0.86887,     0.86987,     0.87087,     0.87187,     0.87287,     0.87387,     0.87487,     0.87588,     0.87688,     0.87788,     0.87888,     0.87988,     0.88088,     0.88188,     0.88288,     0.88388,     0.88488,     0.88589,     0.88689,     0.88789,\n",
              "           0.88889,     0.88989,     0.89089,     0.89189,     0.89289,     0.89389,     0.89489,      0.8959,      0.8969,      0.8979,      0.8989,      0.8999,      0.9009,      0.9019,      0.9029,      0.9039,      0.9049,     0.90591,     0.90691,     0.90791,     0.90891,     0.90991,     0.91091,     0.91191,\n",
              "           0.91291,     0.91391,     0.91491,     0.91592,     0.91692,     0.91792,     0.91892,     0.91992,     0.92092,     0.92192,     0.92292,     0.92392,     0.92492,     0.92593,     0.92693,     0.92793,     0.92893,     0.92993,     0.93093,     0.93193,     0.93293,     0.93393,     0.93493,     0.93594,\n",
              "           0.93694,     0.93794,     0.93894,     0.93994,     0.94094,     0.94194,     0.94294,     0.94394,     0.94494,     0.94595,     0.94695,     0.94795,     0.94895,     0.94995,     0.95095,     0.95195,     0.95295,     0.95395,     0.95495,     0.95596,     0.95696,     0.95796,     0.95896,     0.95996,\n",
              "           0.96096,     0.96196,     0.96296,     0.96396,     0.96496,     0.96597,     0.96697,     0.96797,     0.96897,     0.96997,     0.97097,     0.97197,     0.97297,     0.97397,     0.97497,     0.97598,     0.97698,     0.97798,     0.97898,     0.97998,     0.98098,     0.98198,     0.98298,     0.98398,\n",
              "           0.98498,     0.98599,     0.98699,     0.98799,     0.98899,     0.98999,     0.99099,     0.99199,     0.99299,     0.99399,     0.99499,       0.996,       0.997,       0.998,       0.999,           1]), array([[    0.56996,     0.56996,     0.65507,     0.69601,     0.72092,     0.73951,     0.76455,     0.77725,     0.78654,     0.79336,     0.80301,     0.81293,      0.8188,     0.82897,     0.83659,     0.83964,     0.84109,     0.84386,     0.84997,     0.85507,     0.86037,     0.86375,     0.86744,\n",
              "            0.86881,     0.87304,      0.8746,     0.87656,     0.87819,     0.87962,     0.88297,      0.8858,      0.8879,     0.89073,     0.89148,     0.89234,     0.89355,     0.89307,     0.89197,      0.8927,     0.89357,     0.89381,     0.89404,     0.89428,     0.89452,     0.89476,     0.89499,\n",
              "            0.89523,      0.8963,     0.89753,     0.89866,     0.90022,     0.90283,     0.90315,     0.90348,     0.90381,     0.90414,     0.90447,     0.90647,     0.90757,     0.90846,     0.90889,     0.90932,     0.90974,     0.91017,      0.9118,     0.91415,     0.91495,     0.91574,     0.91754,\n",
              "            0.91898,     0.91995,      0.9203,     0.92065,     0.92101,     0.92136,     0.92171,       0.922,     0.92227,     0.92254,     0.92282,     0.92309,     0.92336,     0.92363,     0.92496,     0.92594,     0.92635,     0.92676,     0.92717,     0.92758,     0.92794,     0.92829,     0.92864,\n",
              "            0.92899,     0.92934,     0.92975,      0.9305,     0.93125,      0.9317,     0.93185,       0.932,     0.93215,      0.9323,     0.93245,      0.9326,     0.93275,      0.9329,     0.93305,      0.9332,     0.93335,      0.9335,     0.93301,     0.93146,      0.9318,     0.93213,     0.93246,\n",
              "            0.93279,     0.93312,     0.93368,     0.93462,     0.93558,     0.93662,     0.93744,      0.9377,     0.93796,     0.93822,     0.93848,     0.93874,       0.939,     0.93926,     0.93992,     0.94102,     0.94154,     0.94172,     0.94191,     0.94209,     0.94227,     0.94245,     0.94263,\n",
              "            0.94281,     0.94299,     0.94317,     0.94335,     0.94354,     0.94375,     0.94396,     0.94417,     0.94437,     0.94458,     0.94479,       0.945,     0.94521,     0.94542,     0.94611,     0.94744,     0.94774,     0.94789,     0.94805,     0.94821,     0.94837,     0.94852,     0.94868,\n",
              "            0.94884,     0.94899,     0.94915,     0.94931,     0.94947,     0.94962,     0.95184,     0.95202,      0.9522,     0.95238,     0.95255,     0.95273,     0.95291,     0.95309,     0.95326,     0.95344,     0.95362,     0.95379,     0.95408,     0.95442,     0.95475,     0.95508,     0.95541,\n",
              "            0.95575,      0.9562,     0.95685,     0.95749,      0.9581,     0.95846,     0.95881,     0.95917,     0.95952,     0.95988,     0.96019,     0.96026,     0.96033,      0.9604,     0.96047,     0.96055,     0.96062,     0.96069,     0.96076,     0.96083,      0.9609,     0.96097,     0.96104,\n",
              "            0.96112,     0.96119,     0.96126,     0.96133,      0.9614,     0.96147,     0.96154,     0.96161,     0.96168,     0.96176,     0.96183,      0.9619,     0.96197,     0.96204,     0.96211,     0.96218,     0.96225,     0.96235,     0.96252,      0.9627,     0.96287,     0.96305,     0.96322,\n",
              "             0.9634,     0.96357,     0.96374,     0.96392,     0.96409,     0.96427,     0.96444,     0.96458,     0.96472,     0.96487,     0.96501,     0.96515,     0.96529,     0.96543,     0.96557,     0.96571,     0.96585,       0.966,     0.96614,     0.96628,     0.96642,     0.96656,     0.96676,\n",
              "            0.96699,     0.96721,     0.96743,     0.96766,     0.96788,      0.9681,     0.96832,     0.96855,     0.96874,     0.96861,     0.96849,     0.96836,     0.96823,     0.96811,     0.96798,     0.96785,     0.96772,      0.9676,     0.96747,     0.96734,     0.96722,     0.96709,     0.96696,\n",
              "            0.96683,     0.96671,     0.96658,     0.96645,     0.96652,      0.9666,     0.96668,     0.96676,     0.96685,     0.96693,     0.96701,     0.96709,     0.96717,     0.96725,     0.96733,     0.96742,      0.9675,     0.96758,     0.96766,     0.96774,     0.96782,     0.96791,     0.96799,\n",
              "            0.96807,     0.96815,     0.96823,     0.96831,     0.96839,     0.96847,     0.96856,      0.9687,     0.96897,     0.96925,     0.96952,     0.96979,     0.97006,     0.97034,     0.97061,     0.97081,     0.97086,     0.97091,     0.97097,     0.97102,     0.97107,     0.97113,     0.97118,\n",
              "            0.97124,     0.97129,     0.97134,      0.9714,     0.97145,      0.9715,     0.97156,     0.97161,     0.97167,     0.97172,     0.97177,     0.97183,     0.97188,     0.97193,     0.97199,     0.97204,      0.9721,     0.97215,      0.9722,     0.97226,     0.97231,     0.97236,     0.97242,\n",
              "            0.97247,     0.97252,     0.97258,     0.97263,     0.97269,     0.97274,     0.97279,     0.97285,      0.9729,     0.97295,     0.97301,     0.97308,     0.97314,      0.9732,     0.97327,     0.97333,     0.97339,     0.97346,     0.97352,     0.97358,     0.97365,     0.97371,     0.97377,\n",
              "            0.97384,      0.9739,     0.97396,     0.97403,     0.97409,     0.97415,     0.97421,     0.97428,     0.97434,      0.9744,     0.97447,     0.97453,     0.97459,     0.97466,     0.97472,     0.97478,     0.97485,     0.97491,     0.97497,     0.97504,      0.9751,     0.97516,     0.97513,\n",
              "            0.97509,     0.97505,     0.97501,     0.97497,     0.97493,     0.97489,     0.97485,     0.97481,     0.97477,     0.97473,     0.97469,     0.97465,      0.9746,     0.97456,     0.97452,     0.97448,     0.97444,      0.9744,     0.97436,     0.97432,     0.97428,     0.97424,      0.9742,\n",
              "            0.97416,     0.97412,     0.97408,     0.97403,     0.97399,     0.97395,     0.97391,     0.97387,     0.97383,     0.97379,     0.97375,     0.97371,     0.97367,     0.97363,     0.97359,     0.97355,      0.9735,     0.97346,     0.97342,     0.97338,     0.97334,      0.9733,     0.97326,\n",
              "            0.97322,     0.97318,     0.97314,      0.9731,     0.97306,     0.97302,     0.97297,     0.97293,     0.97289,     0.97285,     0.97279,     0.97273,     0.97266,      0.9726,     0.97254,     0.97247,     0.97241,     0.97234,     0.97228,     0.97222,     0.97215,     0.97209,     0.97203,\n",
              "            0.97196,      0.9719,     0.97184,     0.97177,     0.97171,     0.97165,     0.97158,     0.97152,     0.97146,     0.97139,     0.97133,     0.97126,      0.9712,     0.97114,     0.97107,     0.97101,     0.97095,     0.97088,     0.97082,     0.97075,     0.97069,     0.97063,     0.97056,\n",
              "            0.97044,     0.97018,     0.96993,     0.96967,     0.96942,     0.96916,     0.96891,     0.96865,      0.9684,     0.96819,     0.96828,     0.96837,     0.96845,     0.96854,     0.96863,     0.96871,      0.9688,     0.96889,     0.96897,     0.96906,     0.96915,     0.96923,     0.96932,\n",
              "            0.96941,     0.96949,     0.96958,     0.96967,     0.96975,     0.96984,     0.96993,     0.97001,      0.9701,     0.97018,     0.97027,     0.97036,     0.97117,     0.97237,     0.97226,     0.97184,     0.97141,     0.97099,     0.97056,     0.97021,     0.97004,     0.96987,      0.9697,\n",
              "            0.96953,     0.96936,     0.96919,     0.96902,     0.96885,     0.96868,     0.96851,     0.96834,     0.96817,       0.968,     0.96792,     0.96799,     0.96807,     0.96815,     0.96823,     0.96831,     0.96838,     0.96846,     0.96854,     0.96862,      0.9687,     0.96877,     0.96885,\n",
              "            0.96893,     0.96901,     0.96909,     0.96916,     0.96924,     0.96932,      0.9694,     0.96947,     0.96955,     0.96963,     0.96971,     0.96979,     0.96986,     0.96994,     0.97002,      0.9701,     0.97004,     0.96995,     0.96985,     0.96976,     0.96966,     0.96956,     0.96947,\n",
              "            0.96937,     0.96928,     0.96918,     0.96908,     0.96899,     0.96889,      0.9688,      0.9687,      0.9686,     0.96851,     0.96841,     0.96832,     0.96822,     0.96812,     0.96803,     0.96793,     0.96784,     0.96773,     0.96712,     0.96652,     0.96591,     0.96441,     0.96291,\n",
              "            0.96284,     0.96277,     0.96271,     0.96264,     0.96257,      0.9625,     0.96244,     0.96237,      0.9623,     0.96224,     0.96217,      0.9621,     0.96204,     0.96197,      0.9619,     0.96183,     0.96177,      0.9617,     0.96163,     0.96157,      0.9615,     0.96143,     0.96136,\n",
              "             0.9613,     0.96123,     0.96116,      0.9611,     0.96103,     0.96096,     0.96089,     0.96083,     0.96076,     0.96069,     0.96063,     0.96056,     0.96046,     0.96037,     0.96027,     0.96018,     0.96008,     0.95998,     0.95989,     0.95979,      0.9597,      0.9596,      0.9595,\n",
              "            0.95941,     0.95931,     0.95922,     0.95912,     0.95902,     0.95893,     0.95883,     0.95874,     0.95864,     0.95854,     0.95845,     0.95835,     0.95826,     0.95816,     0.95793,     0.95766,     0.95739,     0.95712,     0.95685,     0.95658,     0.95631,     0.95604,     0.95577,\n",
              "            0.95515,     0.95445,     0.95374,     0.95314,     0.95275,     0.95237,     0.95198,     0.95159,      0.9512,     0.95082,     0.95099,     0.95116,     0.95132,     0.95149,     0.95165,     0.95182,     0.95199,     0.95215,     0.95232,     0.95248,     0.95265,     0.95281,     0.95298,\n",
              "            0.95288,     0.95257,     0.95226,     0.95195,     0.95164,     0.95133,     0.95102,     0.95071,      0.9503,     0.94984,     0.94938,     0.94891,     0.94845,     0.94804,     0.94779,     0.94754,     0.94728,     0.94703,     0.94677,     0.94652,     0.94627,     0.94601,     0.94576,\n",
              "            0.94489,     0.94338,     0.94239,      0.9415,     0.94061,     0.94011,     0.93961,     0.93911,     0.93861,     0.93811,      0.9361,     0.93269,     0.93207,     0.93145,     0.93082,     0.93029,     0.92989,     0.92948,     0.92907,     0.92867,     0.92826,     0.92783,     0.92711,\n",
              "            0.92638,     0.92566,     0.92428,     0.92254,     0.92177,     0.92099,     0.92022,     0.91781,     0.91618,     0.91455,     0.90919,     0.90767,     0.90663,     0.90612,     0.90562,     0.90512,     0.90461,     0.90402,     0.90282,     0.90161,     0.90086,     0.90016,     0.89947,\n",
              "            0.89877,     0.89417,     0.88747,     0.88519,     0.88142,     0.88012,     0.87738,     0.87204,     0.86694,     0.86203,     0.85917,     0.85862,     0.85807,     0.85752,     0.85696,     0.85641,     0.85398,     0.85023,     0.84516,     0.84389,     0.84305,     0.84222,     0.84094,\n",
              "            0.83824,     0.83653,     0.83431,     0.82603,     0.82479,     0.82354,     0.82234,     0.82116,     0.82001,     0.81906,     0.81812,     0.81717,      0.8152,     0.80863,     0.80297,     0.80074,     0.79862,     0.79257,     0.78747,     0.78663,     0.78579,     0.78495,     0.78375,\n",
              "            0.78241,      0.7776,     0.77559,     0.77169,       0.767,     0.76507,     0.75704,     0.74842,      0.7407,     0.73325,     0.72854,     0.72621,     0.71981,     0.71535,     0.70991,     0.70397,     0.70078,     0.69009,     0.68648,     0.68383,     0.68226,      0.6807,     0.67734,\n",
              "            0.67391,     0.66736,     0.66176,     0.64803,     0.64575,      0.6378,     0.61949,     0.60418,      0.6001,     0.59761,     0.57947,     0.57517,     0.56982,     0.56471,     0.55653,      0.5541,     0.54689,     0.53614,      0.5296,     0.52421,     0.50712,     0.49322,     0.47613,\n",
              "            0.46719,     0.45932,     0.45441,     0.44168,     0.42732,     0.40258,     0.38167,     0.37532,     0.36952,     0.36165,     0.34289,     0.33203,     0.32569,     0.30827,      0.2976,     0.29229,      0.2778,     0.26978,      0.2556,     0.24656,      0.2335,     0.20689,     0.19417,\n",
              "            0.18105,     0.17389,      0.1653,     0.14389,     0.13208,     0.12901,     0.12588,     0.12166,     0.11718,     0.11152,      0.1063,     0.10043,    0.093049,    0.089967,    0.086875,    0.077791,    0.062166,    0.047824,    0.037618,    0.027861,    0.024256,    0.021634,    0.019005,\n",
              "           0.011235,           0,           0,           0,           0,           0,           0,           0,           0,           0,           0,           0,           0,           0,           0,           0,           0,           0,           0,           0,           0,           0,           0,\n",
              "                  0,           0,           0,           0,           0,           0,           0,           0,           0,           0,           0,           0,           0,           0,           0,           0,           0,           0,           0,           0,           0,           0,           0,\n",
              "                  0,           0,           0,           0,           0,           0,           0,           0,           0,           0,           0,           0,           0,           0,           0,           0,           0,           0,           0,           0,           0,           0,           0,\n",
              "                  0,           0,           0,           0,           0,           0,           0,           0,           0,           0,           0,           0,           0,           0,           0,           0,           0,           0,           0,           0,           0,           0,           0,\n",
              "                  0,           0,           0,           0,           0,           0,           0,           0,           0,           0,           0]]), 'Confidence', 'F1'], [array([          0,    0.001001,    0.002002,    0.003003,    0.004004,    0.005005,    0.006006,    0.007007,    0.008008,    0.009009,     0.01001,    0.011011,    0.012012,    0.013013,    0.014014,    0.015015,    0.016016,    0.017017,    0.018018,    0.019019,     0.02002,    0.021021,    0.022022,    0.023023,\n",
              "          0.024024,    0.025025,    0.026026,    0.027027,    0.028028,    0.029029,     0.03003,    0.031031,    0.032032,    0.033033,    0.034034,    0.035035,    0.036036,    0.037037,    0.038038,    0.039039,     0.04004,    0.041041,    0.042042,    0.043043,    0.044044,    0.045045,    0.046046,    0.047047,\n",
              "          0.048048,    0.049049,     0.05005,    0.051051,    0.052052,    0.053053,    0.054054,    0.055055,    0.056056,    0.057057,    0.058058,    0.059059,     0.06006,    0.061061,    0.062062,    0.063063,    0.064064,    0.065065,    0.066066,    0.067067,    0.068068,    0.069069,     0.07007,    0.071071,\n",
              "          0.072072,    0.073073,    0.074074,    0.075075,    0.076076,    0.077077,    0.078078,    0.079079,     0.08008,    0.081081,    0.082082,    0.083083,    0.084084,    0.085085,    0.086086,    0.087087,    0.088088,    0.089089,     0.09009,    0.091091,    0.092092,    0.093093,    0.094094,    0.095095,\n",
              "          0.096096,    0.097097,    0.098098,    0.099099,      0.1001,      0.1011,      0.1021,      0.1031,      0.1041,     0.10511,     0.10611,     0.10711,     0.10811,     0.10911,     0.11011,     0.11111,     0.11211,     0.11311,     0.11411,     0.11512,     0.11612,     0.11712,     0.11812,     0.11912,\n",
              "           0.12012,     0.12112,     0.12212,     0.12312,     0.12412,     0.12513,     0.12613,     0.12713,     0.12813,     0.12913,     0.13013,     0.13113,     0.13213,     0.13313,     0.13413,     0.13514,     0.13614,     0.13714,     0.13814,     0.13914,     0.14014,     0.14114,     0.14214,     0.14314,\n",
              "           0.14414,     0.14515,     0.14615,     0.14715,     0.14815,     0.14915,     0.15015,     0.15115,     0.15215,     0.15315,     0.15415,     0.15516,     0.15616,     0.15716,     0.15816,     0.15916,     0.16016,     0.16116,     0.16216,     0.16316,     0.16416,     0.16517,     0.16617,     0.16717,\n",
              "           0.16817,     0.16917,     0.17017,     0.17117,     0.17217,     0.17317,     0.17417,     0.17518,     0.17618,     0.17718,     0.17818,     0.17918,     0.18018,     0.18118,     0.18218,     0.18318,     0.18418,     0.18519,     0.18619,     0.18719,     0.18819,     0.18919,     0.19019,     0.19119,\n",
              "           0.19219,     0.19319,     0.19419,      0.1952,      0.1962,      0.1972,      0.1982,      0.1992,      0.2002,      0.2012,      0.2022,      0.2032,      0.2042,     0.20521,     0.20621,     0.20721,     0.20821,     0.20921,     0.21021,     0.21121,     0.21221,     0.21321,     0.21421,     0.21522,\n",
              "           0.21622,     0.21722,     0.21822,     0.21922,     0.22022,     0.22122,     0.22222,     0.22322,     0.22422,     0.22523,     0.22623,     0.22723,     0.22823,     0.22923,     0.23023,     0.23123,     0.23223,     0.23323,     0.23423,     0.23524,     0.23624,     0.23724,     0.23824,     0.23924,\n",
              "           0.24024,     0.24124,     0.24224,     0.24324,     0.24424,     0.24525,     0.24625,     0.24725,     0.24825,     0.24925,     0.25025,     0.25125,     0.25225,     0.25325,     0.25425,     0.25526,     0.25626,     0.25726,     0.25826,     0.25926,     0.26026,     0.26126,     0.26226,     0.26326,\n",
              "           0.26426,     0.26527,     0.26627,     0.26727,     0.26827,     0.26927,     0.27027,     0.27127,     0.27227,     0.27327,     0.27427,     0.27528,     0.27628,     0.27728,     0.27828,     0.27928,     0.28028,     0.28128,     0.28228,     0.28328,     0.28428,     0.28529,     0.28629,     0.28729,\n",
              "           0.28829,     0.28929,     0.29029,     0.29129,     0.29229,     0.29329,     0.29429,      0.2953,      0.2963,      0.2973,      0.2983,      0.2993,      0.3003,      0.3013,      0.3023,      0.3033,      0.3043,     0.30531,     0.30631,     0.30731,     0.30831,     0.30931,     0.31031,     0.31131,\n",
              "           0.31231,     0.31331,     0.31431,     0.31532,     0.31632,     0.31732,     0.31832,     0.31932,     0.32032,     0.32132,     0.32232,     0.32332,     0.32432,     0.32533,     0.32633,     0.32733,     0.32833,     0.32933,     0.33033,     0.33133,     0.33233,     0.33333,     0.33433,     0.33534,\n",
              "           0.33634,     0.33734,     0.33834,     0.33934,     0.34034,     0.34134,     0.34234,     0.34334,     0.34434,     0.34535,     0.34635,     0.34735,     0.34835,     0.34935,     0.35035,     0.35135,     0.35235,     0.35335,     0.35435,     0.35536,     0.35636,     0.35736,     0.35836,     0.35936,\n",
              "           0.36036,     0.36136,     0.36236,     0.36336,     0.36436,     0.36537,     0.36637,     0.36737,     0.36837,     0.36937,     0.37037,     0.37137,     0.37237,     0.37337,     0.37437,     0.37538,     0.37638,     0.37738,     0.37838,     0.37938,     0.38038,     0.38138,     0.38238,     0.38338,\n",
              "           0.38438,     0.38539,     0.38639,     0.38739,     0.38839,     0.38939,     0.39039,     0.39139,     0.39239,     0.39339,     0.39439,      0.3954,      0.3964,      0.3974,      0.3984,      0.3994,      0.4004,      0.4014,      0.4024,      0.4034,      0.4044,     0.40541,     0.40641,     0.40741,\n",
              "           0.40841,     0.40941,     0.41041,     0.41141,     0.41241,     0.41341,     0.41441,     0.41542,     0.41642,     0.41742,     0.41842,     0.41942,     0.42042,     0.42142,     0.42242,     0.42342,     0.42442,     0.42543,     0.42643,     0.42743,     0.42843,     0.42943,     0.43043,     0.43143,\n",
              "           0.43243,     0.43343,     0.43443,     0.43544,     0.43644,     0.43744,     0.43844,     0.43944,     0.44044,     0.44144,     0.44244,     0.44344,     0.44444,     0.44545,     0.44645,     0.44745,     0.44845,     0.44945,     0.45045,     0.45145,     0.45245,     0.45345,     0.45445,     0.45546,\n",
              "           0.45646,     0.45746,     0.45846,     0.45946,     0.46046,     0.46146,     0.46246,     0.46346,     0.46446,     0.46547,     0.46647,     0.46747,     0.46847,     0.46947,     0.47047,     0.47147,     0.47247,     0.47347,     0.47447,     0.47548,     0.47648,     0.47748,     0.47848,     0.47948,\n",
              "           0.48048,     0.48148,     0.48248,     0.48348,     0.48448,     0.48549,     0.48649,     0.48749,     0.48849,     0.48949,     0.49049,     0.49149,     0.49249,     0.49349,     0.49449,      0.4955,      0.4965,      0.4975,      0.4985,      0.4995,      0.5005,      0.5015,      0.5025,      0.5035,\n",
              "            0.5045,     0.50551,     0.50651,     0.50751,     0.50851,     0.50951,     0.51051,     0.51151,     0.51251,     0.51351,     0.51451,     0.51552,     0.51652,     0.51752,     0.51852,     0.51952,     0.52052,     0.52152,     0.52252,     0.52352,     0.52452,     0.52553,     0.52653,     0.52753,\n",
              "           0.52853,     0.52953,     0.53053,     0.53153,     0.53253,     0.53353,     0.53453,     0.53554,     0.53654,     0.53754,     0.53854,     0.53954,     0.54054,     0.54154,     0.54254,     0.54354,     0.54454,     0.54555,     0.54655,     0.54755,     0.54855,     0.54955,     0.55055,     0.55155,\n",
              "           0.55255,     0.55355,     0.55455,     0.55556,     0.55656,     0.55756,     0.55856,     0.55956,     0.56056,     0.56156,     0.56256,     0.56356,     0.56456,     0.56557,     0.56657,     0.56757,     0.56857,     0.56957,     0.57057,     0.57157,     0.57257,     0.57357,     0.57457,     0.57558,\n",
              "           0.57658,     0.57758,     0.57858,     0.57958,     0.58058,     0.58158,     0.58258,     0.58358,     0.58458,     0.58559,     0.58659,     0.58759,     0.58859,     0.58959,     0.59059,     0.59159,     0.59259,     0.59359,     0.59459,      0.5956,      0.5966,      0.5976,      0.5986,      0.5996,\n",
              "            0.6006,      0.6016,      0.6026,      0.6036,      0.6046,     0.60561,     0.60661,     0.60761,     0.60861,     0.60961,     0.61061,     0.61161,     0.61261,     0.61361,     0.61461,     0.61562,     0.61662,     0.61762,     0.61862,     0.61962,     0.62062,     0.62162,     0.62262,     0.62362,\n",
              "           0.62462,     0.62563,     0.62663,     0.62763,     0.62863,     0.62963,     0.63063,     0.63163,     0.63263,     0.63363,     0.63463,     0.63564,     0.63664,     0.63764,     0.63864,     0.63964,     0.64064,     0.64164,     0.64264,     0.64364,     0.64464,     0.64565,     0.64665,     0.64765,\n",
              "           0.64865,     0.64965,     0.65065,     0.65165,     0.65265,     0.65365,     0.65465,     0.65566,     0.65666,     0.65766,     0.65866,     0.65966,     0.66066,     0.66166,     0.66266,     0.66366,     0.66466,     0.66567,     0.66667,     0.66767,     0.66867,     0.66967,     0.67067,     0.67167,\n",
              "           0.67267,     0.67367,     0.67467,     0.67568,     0.67668,     0.67768,     0.67868,     0.67968,     0.68068,     0.68168,     0.68268,     0.68368,     0.68468,     0.68569,     0.68669,     0.68769,     0.68869,     0.68969,     0.69069,     0.69169,     0.69269,     0.69369,     0.69469,      0.6957,\n",
              "            0.6967,      0.6977,      0.6987,      0.6997,      0.7007,      0.7017,      0.7027,      0.7037,      0.7047,     0.70571,     0.70671,     0.70771,     0.70871,     0.70971,     0.71071,     0.71171,     0.71271,     0.71371,     0.71471,     0.71572,     0.71672,     0.71772,     0.71872,     0.71972,\n",
              "           0.72072,     0.72172,     0.72272,     0.72372,     0.72472,     0.72573,     0.72673,     0.72773,     0.72873,     0.72973,     0.73073,     0.73173,     0.73273,     0.73373,     0.73473,     0.73574,     0.73674,     0.73774,     0.73874,     0.73974,     0.74074,     0.74174,     0.74274,     0.74374,\n",
              "           0.74474,     0.74575,     0.74675,     0.74775,     0.74875,     0.74975,     0.75075,     0.75175,     0.75275,     0.75375,     0.75475,     0.75576,     0.75676,     0.75776,     0.75876,     0.75976,     0.76076,     0.76176,     0.76276,     0.76376,     0.76476,     0.76577,     0.76677,     0.76777,\n",
              "           0.76877,     0.76977,     0.77077,     0.77177,     0.77277,     0.77377,     0.77477,     0.77578,     0.77678,     0.77778,     0.77878,     0.77978,     0.78078,     0.78178,     0.78278,     0.78378,     0.78478,     0.78579,     0.78679,     0.78779,     0.78879,     0.78979,     0.79079,     0.79179,\n",
              "           0.79279,     0.79379,     0.79479,      0.7958,      0.7968,      0.7978,      0.7988,      0.7998,      0.8008,      0.8018,      0.8028,      0.8038,      0.8048,     0.80581,     0.80681,     0.80781,     0.80881,     0.80981,     0.81081,     0.81181,     0.81281,     0.81381,     0.81481,     0.81582,\n",
              "           0.81682,     0.81782,     0.81882,     0.81982,     0.82082,     0.82182,     0.82282,     0.82382,     0.82482,     0.82583,     0.82683,     0.82783,     0.82883,     0.82983,     0.83083,     0.83183,     0.83283,     0.83383,     0.83483,     0.83584,     0.83684,     0.83784,     0.83884,     0.83984,\n",
              "           0.84084,     0.84184,     0.84284,     0.84384,     0.84484,     0.84585,     0.84685,     0.84785,     0.84885,     0.84985,     0.85085,     0.85185,     0.85285,     0.85385,     0.85485,     0.85586,     0.85686,     0.85786,     0.85886,     0.85986,     0.86086,     0.86186,     0.86286,     0.86386,\n",
              "           0.86486,     0.86587,     0.86687,     0.86787,     0.86887,     0.86987,     0.87087,     0.87187,     0.87287,     0.87387,     0.87487,     0.87588,     0.87688,     0.87788,     0.87888,     0.87988,     0.88088,     0.88188,     0.88288,     0.88388,     0.88488,     0.88589,     0.88689,     0.88789,\n",
              "           0.88889,     0.88989,     0.89089,     0.89189,     0.89289,     0.89389,     0.89489,      0.8959,      0.8969,      0.8979,      0.8989,      0.8999,      0.9009,      0.9019,      0.9029,      0.9039,      0.9049,     0.90591,     0.90691,     0.90791,     0.90891,     0.90991,     0.91091,     0.91191,\n",
              "           0.91291,     0.91391,     0.91491,     0.91592,     0.91692,     0.91792,     0.91892,     0.91992,     0.92092,     0.92192,     0.92292,     0.92392,     0.92492,     0.92593,     0.92693,     0.92793,     0.92893,     0.92993,     0.93093,     0.93193,     0.93293,     0.93393,     0.93493,     0.93594,\n",
              "           0.93694,     0.93794,     0.93894,     0.93994,     0.94094,     0.94194,     0.94294,     0.94394,     0.94494,     0.94595,     0.94695,     0.94795,     0.94895,     0.94995,     0.95095,     0.95195,     0.95295,     0.95395,     0.95495,     0.95596,     0.95696,     0.95796,     0.95896,     0.95996,\n",
              "           0.96096,     0.96196,     0.96296,     0.96396,     0.96496,     0.96597,     0.96697,     0.96797,     0.96897,     0.96997,     0.97097,     0.97197,     0.97297,     0.97397,     0.97497,     0.97598,     0.97698,     0.97798,     0.97898,     0.97998,     0.98098,     0.98198,     0.98298,     0.98398,\n",
              "           0.98498,     0.98599,     0.98699,     0.98799,     0.98899,     0.98999,     0.99099,     0.99199,     0.99299,     0.99399,     0.99499,       0.996,       0.997,       0.998,       0.999,           1]), array([[    0.39928,     0.39928,     0.48922,     0.53635,     0.56799,     0.59304,     0.62592,     0.64313,     0.65595,     0.66549,     0.67918,     0.69349,     0.70209,     0.71717,     0.72866,     0.73329,      0.7355,     0.73975,     0.74919,     0.75716,     0.76551,     0.77087,     0.77677,\n",
              "            0.77898,     0.78581,     0.78834,     0.79153,      0.7942,     0.79653,     0.80204,     0.80672,     0.81021,     0.81493,     0.81619,     0.81763,     0.81968,     0.81998,     0.81966,     0.82138,     0.82286,     0.82326,     0.82366,     0.82407,     0.82447,     0.82487,     0.82527,\n",
              "            0.82568,      0.8275,     0.82959,     0.83152,     0.83421,     0.83869,     0.83926,     0.83983,      0.8404,     0.84096,     0.84153,     0.84501,     0.84693,     0.84848,     0.84922,     0.84997,     0.85071,     0.85146,     0.85431,     0.85845,     0.85986,     0.86127,     0.86445,\n",
              "              0.867,     0.86874,     0.86937,     0.86999,     0.87062,     0.87125,     0.87188,     0.87239,     0.87288,     0.87337,     0.87386,     0.87435,     0.87484,     0.87533,     0.87772,     0.87949,     0.88023,     0.88097,     0.88171,     0.88245,      0.8831,     0.88374,     0.88437,\n",
              "            0.88501,     0.88564,     0.88639,     0.88775,     0.88911,     0.88993,     0.89021,     0.89048,     0.89076,     0.89103,      0.8913,     0.89158,     0.89185,     0.89213,      0.8924,     0.89268,     0.89295,     0.89323,     0.89333,     0.89325,     0.89386,     0.89447,     0.89508,\n",
              "             0.8957,     0.89631,     0.89733,     0.89907,     0.90084,     0.90278,      0.9043,     0.90479,     0.90527,     0.90576,     0.90624,     0.90673,     0.90721,      0.9077,     0.90893,     0.91099,     0.91198,     0.91231,     0.91265,     0.91299,     0.91333,     0.91367,     0.91401,\n",
              "            0.91435,     0.91469,     0.91503,     0.91537,     0.91573,     0.91612,     0.91651,     0.91691,      0.9173,     0.91769,     0.91809,     0.91848,     0.91888,     0.91927,     0.92059,     0.92311,     0.92367,     0.92397,     0.92427,     0.92457,     0.92486,     0.92516,     0.92546,\n",
              "            0.92576,     0.92606,     0.92636,     0.92666,     0.92696,     0.92726,      0.9315,     0.93184,     0.93218,     0.93252,     0.93286,      0.9332,     0.93354,     0.93388,     0.93422,     0.93456,      0.9349,     0.93524,      0.9358,     0.93644,     0.93708,     0.93772,     0.93837,\n",
              "            0.93901,     0.93989,     0.94113,     0.94238,     0.94356,     0.94425,     0.94494,     0.94564,     0.94633,     0.94702,     0.94762,     0.94776,      0.9479,     0.94804,     0.94818,     0.94832,     0.94846,     0.94859,     0.94873,     0.94887,     0.94901,     0.94915,     0.94929,\n",
              "            0.94943,     0.94957,     0.94971,     0.94984,     0.94998,     0.95012,     0.95026,      0.9504,     0.95054,     0.95068,     0.95082,     0.95096,      0.9511,     0.95123,     0.95137,     0.95151,     0.95165,     0.95184,     0.95218,     0.95252,     0.95287,     0.95321,     0.95355,\n",
              "            0.95389,     0.95423,     0.95457,     0.95491,     0.95526,      0.9556,     0.95594,     0.95622,      0.9565,     0.95677,     0.95705,     0.95733,     0.95761,     0.95789,     0.95817,     0.95844,     0.95872,       0.959,     0.95928,     0.95956,     0.95983,     0.96011,     0.96051,\n",
              "            0.96096,      0.9614,     0.96184,     0.96228,     0.96272,     0.96316,      0.9636,     0.96404,     0.96444,     0.96444,     0.96443,     0.96442,     0.96441,      0.9644,     0.96439,     0.96438,     0.96437,     0.96437,     0.96436,     0.96435,     0.96434,     0.96433,     0.96432,\n",
              "            0.96431,      0.9643,      0.9643,     0.96429,     0.96444,      0.9646,     0.96476,     0.96492,     0.96509,     0.96525,     0.96541,     0.96558,     0.96574,      0.9659,     0.96606,     0.96623,     0.96639,     0.96655,     0.96671,     0.96688,     0.96704,      0.9672,     0.96736,\n",
              "            0.96753,     0.96769,     0.96785,     0.96801,     0.96818,     0.96834,      0.9685,     0.96879,     0.96934,     0.96989,     0.97043,     0.97098,     0.97152,     0.97207,     0.97262,     0.97301,     0.97312,     0.97323,     0.97333,     0.97344,     0.97355,     0.97366,     0.97377,\n",
              "            0.97388,     0.97398,     0.97409,      0.9742,     0.97431,     0.97442,     0.97452,     0.97463,     0.97474,     0.97485,     0.97496,     0.97506,     0.97517,     0.97528,     0.97539,      0.9755,     0.97561,     0.97571,     0.97582,     0.97593,     0.97604,     0.97615,     0.97625,\n",
              "            0.97636,     0.97647,     0.97658,     0.97669,     0.97679,      0.9769,     0.97701,     0.97712,     0.97723,     0.97734,     0.97746,     0.97758,     0.97771,     0.97784,     0.97797,      0.9781,     0.97822,     0.97835,     0.97848,     0.97861,     0.97873,     0.97886,     0.97899,\n",
              "            0.97912,     0.97925,     0.97937,      0.9795,     0.97963,     0.97976,     0.97988,     0.98001,     0.98014,     0.98027,      0.9804,     0.98052,     0.98065,     0.98078,     0.98091,     0.98104,     0.98116,     0.98129,     0.98142,     0.98155,     0.98167,      0.9818,     0.98182,\n",
              "            0.98182,     0.98181,     0.98181,     0.98181,     0.98181,     0.98181,     0.98181,     0.98181,      0.9818,      0.9818,      0.9818,      0.9818,      0.9818,      0.9818,      0.9818,     0.98179,     0.98179,     0.98179,     0.98179,     0.98179,     0.98179,     0.98178,     0.98178,\n",
              "            0.98178,     0.98178,     0.98178,     0.98178,     0.98178,     0.98177,     0.98177,     0.98177,     0.98177,     0.98177,     0.98177,     0.98177,     0.98176,     0.98176,     0.98176,     0.98176,     0.98176,     0.98176,     0.98176,     0.98175,     0.98175,     0.98175,     0.98175,\n",
              "            0.98175,     0.98175,     0.98175,     0.98174,     0.98174,     0.98174,     0.98174,     0.98174,     0.98174,     0.98174,     0.98173,     0.98173,     0.98173,     0.98173,     0.98172,     0.98172,     0.98172,     0.98172,     0.98171,     0.98171,     0.98171,     0.98171,     0.98171,\n",
              "             0.9817,      0.9817,      0.9817,      0.9817,     0.98169,     0.98169,     0.98169,     0.98169,     0.98168,     0.98168,     0.98168,     0.98168,     0.98168,     0.98167,     0.98167,     0.98167,     0.98167,     0.98166,     0.98166,     0.98166,     0.98166,     0.98166,     0.98165,\n",
              "            0.98165,     0.98164,     0.98163,     0.98162,     0.98161,      0.9816,     0.98159,     0.98158,     0.98157,     0.98159,     0.98177,     0.98195,     0.98213,     0.98231,     0.98248,     0.98266,     0.98284,     0.98302,      0.9832,     0.98338,     0.98355,     0.98373,     0.98391,\n",
              "            0.98409,     0.98427,     0.98444,     0.98462,      0.9848,     0.98498,     0.98516,     0.98534,     0.98551,     0.98569,     0.98587,     0.98605,     0.98772,     0.99021,     0.99069,     0.99068,     0.99068,     0.99067,     0.99066,     0.99065,     0.99065,     0.99065,     0.99064,\n",
              "            0.99064,     0.99064,     0.99063,     0.99063,     0.99063,     0.99063,     0.99062,     0.99062,     0.99062,     0.99061,     0.99067,     0.99083,     0.99099,     0.99116,     0.99132,     0.99148,     0.99165,     0.99181,     0.99197,     0.99214,      0.9923,     0.99246,     0.99263,\n",
              "            0.99279,     0.99295,     0.99312,     0.99328,     0.99345,     0.99361,     0.99377,     0.99394,      0.9941,     0.99426,     0.99443,     0.99459,     0.99475,     0.99492,     0.99508,     0.99524,     0.99528,     0.99528,     0.99528,     0.99528,     0.99528,     0.99528,     0.99528,\n",
              "            0.99528,     0.99528,     0.99527,     0.99527,     0.99527,     0.99527,     0.99527,     0.99527,     0.99527,     0.99527,     0.99527,     0.99527,     0.99527,     0.99526,     0.99526,     0.99526,     0.99526,     0.99526,     0.99525,     0.99525,     0.99524,     0.99523,     0.99521,\n",
              "            0.99521,     0.99521,     0.99521,     0.99521,     0.99521,     0.99521,     0.99521,     0.99521,     0.99521,     0.99521,     0.99521,     0.99521,     0.99521,     0.99521,     0.99521,      0.9952,      0.9952,      0.9952,      0.9952,      0.9952,      0.9952,      0.9952,      0.9952,\n",
              "             0.9952,      0.9952,      0.9952,      0.9952,      0.9952,      0.9952,      0.9952,     0.99519,     0.99519,     0.99519,     0.99519,     0.99519,     0.99519,     0.99519,     0.99519,     0.99519,     0.99519,     0.99519,     0.99519,     0.99518,     0.99518,     0.99518,     0.99518,\n",
              "            0.99518,     0.99518,     0.99518,     0.99518,     0.99518,     0.99518,     0.99518,     0.99517,     0.99517,     0.99517,     0.99517,     0.99517,     0.99517,     0.99517,     0.99517,     0.99516,     0.99516,     0.99516,     0.99516,     0.99515,     0.99515,     0.99515,     0.99515,\n",
              "            0.99514,     0.99513,     0.99513,     0.99512,     0.99512,     0.99511,     0.99511,     0.99511,      0.9951,     0.99511,     0.99547,     0.99584,      0.9962,     0.99656,     0.99693,     0.99729,     0.99766,     0.99802,     0.99838,     0.99875,     0.99911,     0.99948,     0.99984,\n",
              "                  1,           1,           1,           1,           1,           1,           1,           1,           1,           1,           1,           1,           1,           1,           1,           1,           1,           1,           1,           1,           1,           1,           1,\n",
              "                  1,           1,           1,           1,           1,           1,           1,           1,           1,           1,           1,           1,           1,           1,           1,           1,           1,           1,           1,           1,           1,           1,           1,\n",
              "                  1,           1,           1,           1,           1,           1,           1,           1,           1,           1,           1,           1,           1,           1,           1,           1,           1,           1,           1,           1,           1,           1,           1,\n",
              "                  1,           1,           1,           1,           1,           1,           1,           1,           1,           1,           1,           1,           1,           1,           1,           1,           1,           1,           1,           1,           1,           1,           1,\n",
              "                  1,           1,           1,           1,           1,           1,           1,           1,           1,           1,           1,           1,           1,           1,           1,           1,           1,           1,           1,           1,           1,           1,           1,\n",
              "                  1,           1,           1,           1,           1,           1,           1,           1,           1,           1,           1,           1,           1,           1,           1,           1,           1,           1,           1,           1,           1,           1,           1,\n",
              "                  1,           1,           1,           1,           1,           1,           1,           1,           1,           1,           1,           1,           1,           1,           1,           1,           1,           1,           1,           1,           1,           1,           1,\n",
              "                  1,           1,           1,           1,           1,           1,           1,           1,           1,           1,           1,           1,           1,           1,           1,           1,           1,           1,           1,           1,           1,           1,           1,\n",
              "                  1,           1,           1,           1,           1,           1,           1,           1,           1,           1,           1,           1,           1,           1,           1,           1,           1,           1,           1,           1,           1,           1,           1,\n",
              "                  1,           1,           1,           1,           1,           1,           1,           1,           1,           1,           1,           1,           1,           1,           1,           1,           1,           1,           1,           1,           1,           1,           1,\n",
              "                  1,           1,           1,           1,           1,           1,           1,           1,           1,           1,           1,           1,           1,           1,           1,           1,           1,           1,           1,           1,           1,           1,           1,\n",
              "                  1,           1,           1,           1,           1,           1,           1,           1,           1,           1,           1,           1,           1,           1,           1,           1,           1,           1,           1,           1,           1,           1,           1,\n",
              "                  1,           1,           1,           1,           1,           1,           1,           1,           1,           1,           1,           1,           1,           1,           1,           1,           1,           1,           1,           1,           1,           1,           1,\n",
              "                  1,           1,           1,           1,           1,           1,           1,           1,           1,           1,           1]]), 'Confidence', 'Precision'], [array([          0,    0.001001,    0.002002,    0.003003,    0.004004,    0.005005,    0.006006,    0.007007,    0.008008,    0.009009,     0.01001,    0.011011,    0.012012,    0.013013,    0.014014,    0.015015,    0.016016,    0.017017,    0.018018,    0.019019,     0.02002,    0.021021,    0.022022,    0.023023,\n",
              "          0.024024,    0.025025,    0.026026,    0.027027,    0.028028,    0.029029,     0.03003,    0.031031,    0.032032,    0.033033,    0.034034,    0.035035,    0.036036,    0.037037,    0.038038,    0.039039,     0.04004,    0.041041,    0.042042,    0.043043,    0.044044,    0.045045,    0.046046,    0.047047,\n",
              "          0.048048,    0.049049,     0.05005,    0.051051,    0.052052,    0.053053,    0.054054,    0.055055,    0.056056,    0.057057,    0.058058,    0.059059,     0.06006,    0.061061,    0.062062,    0.063063,    0.064064,    0.065065,    0.066066,    0.067067,    0.068068,    0.069069,     0.07007,    0.071071,\n",
              "          0.072072,    0.073073,    0.074074,    0.075075,    0.076076,    0.077077,    0.078078,    0.079079,     0.08008,    0.081081,    0.082082,    0.083083,    0.084084,    0.085085,    0.086086,    0.087087,    0.088088,    0.089089,     0.09009,    0.091091,    0.092092,    0.093093,    0.094094,    0.095095,\n",
              "          0.096096,    0.097097,    0.098098,    0.099099,      0.1001,      0.1011,      0.1021,      0.1031,      0.1041,     0.10511,     0.10611,     0.10711,     0.10811,     0.10911,     0.11011,     0.11111,     0.11211,     0.11311,     0.11411,     0.11512,     0.11612,     0.11712,     0.11812,     0.11912,\n",
              "           0.12012,     0.12112,     0.12212,     0.12312,     0.12412,     0.12513,     0.12613,     0.12713,     0.12813,     0.12913,     0.13013,     0.13113,     0.13213,     0.13313,     0.13413,     0.13514,     0.13614,     0.13714,     0.13814,     0.13914,     0.14014,     0.14114,     0.14214,     0.14314,\n",
              "           0.14414,     0.14515,     0.14615,     0.14715,     0.14815,     0.14915,     0.15015,     0.15115,     0.15215,     0.15315,     0.15415,     0.15516,     0.15616,     0.15716,     0.15816,     0.15916,     0.16016,     0.16116,     0.16216,     0.16316,     0.16416,     0.16517,     0.16617,     0.16717,\n",
              "           0.16817,     0.16917,     0.17017,     0.17117,     0.17217,     0.17317,     0.17417,     0.17518,     0.17618,     0.17718,     0.17818,     0.17918,     0.18018,     0.18118,     0.18218,     0.18318,     0.18418,     0.18519,     0.18619,     0.18719,     0.18819,     0.18919,     0.19019,     0.19119,\n",
              "           0.19219,     0.19319,     0.19419,      0.1952,      0.1962,      0.1972,      0.1982,      0.1992,      0.2002,      0.2012,      0.2022,      0.2032,      0.2042,     0.20521,     0.20621,     0.20721,     0.20821,     0.20921,     0.21021,     0.21121,     0.21221,     0.21321,     0.21421,     0.21522,\n",
              "           0.21622,     0.21722,     0.21822,     0.21922,     0.22022,     0.22122,     0.22222,     0.22322,     0.22422,     0.22523,     0.22623,     0.22723,     0.22823,     0.22923,     0.23023,     0.23123,     0.23223,     0.23323,     0.23423,     0.23524,     0.23624,     0.23724,     0.23824,     0.23924,\n",
              "           0.24024,     0.24124,     0.24224,     0.24324,     0.24424,     0.24525,     0.24625,     0.24725,     0.24825,     0.24925,     0.25025,     0.25125,     0.25225,     0.25325,     0.25425,     0.25526,     0.25626,     0.25726,     0.25826,     0.25926,     0.26026,     0.26126,     0.26226,     0.26326,\n",
              "           0.26426,     0.26527,     0.26627,     0.26727,     0.26827,     0.26927,     0.27027,     0.27127,     0.27227,     0.27327,     0.27427,     0.27528,     0.27628,     0.27728,     0.27828,     0.27928,     0.28028,     0.28128,     0.28228,     0.28328,     0.28428,     0.28529,     0.28629,     0.28729,\n",
              "           0.28829,     0.28929,     0.29029,     0.29129,     0.29229,     0.29329,     0.29429,      0.2953,      0.2963,      0.2973,      0.2983,      0.2993,      0.3003,      0.3013,      0.3023,      0.3033,      0.3043,     0.30531,     0.30631,     0.30731,     0.30831,     0.30931,     0.31031,     0.31131,\n",
              "           0.31231,     0.31331,     0.31431,     0.31532,     0.31632,     0.31732,     0.31832,     0.31932,     0.32032,     0.32132,     0.32232,     0.32332,     0.32432,     0.32533,     0.32633,     0.32733,     0.32833,     0.32933,     0.33033,     0.33133,     0.33233,     0.33333,     0.33433,     0.33534,\n",
              "           0.33634,     0.33734,     0.33834,     0.33934,     0.34034,     0.34134,     0.34234,     0.34334,     0.34434,     0.34535,     0.34635,     0.34735,     0.34835,     0.34935,     0.35035,     0.35135,     0.35235,     0.35335,     0.35435,     0.35536,     0.35636,     0.35736,     0.35836,     0.35936,\n",
              "           0.36036,     0.36136,     0.36236,     0.36336,     0.36436,     0.36537,     0.36637,     0.36737,     0.36837,     0.36937,     0.37037,     0.37137,     0.37237,     0.37337,     0.37437,     0.37538,     0.37638,     0.37738,     0.37838,     0.37938,     0.38038,     0.38138,     0.38238,     0.38338,\n",
              "           0.38438,     0.38539,     0.38639,     0.38739,     0.38839,     0.38939,     0.39039,     0.39139,     0.39239,     0.39339,     0.39439,      0.3954,      0.3964,      0.3974,      0.3984,      0.3994,      0.4004,      0.4014,      0.4024,      0.4034,      0.4044,     0.40541,     0.40641,     0.40741,\n",
              "           0.40841,     0.40941,     0.41041,     0.41141,     0.41241,     0.41341,     0.41441,     0.41542,     0.41642,     0.41742,     0.41842,     0.41942,     0.42042,     0.42142,     0.42242,     0.42342,     0.42442,     0.42543,     0.42643,     0.42743,     0.42843,     0.42943,     0.43043,     0.43143,\n",
              "           0.43243,     0.43343,     0.43443,     0.43544,     0.43644,     0.43744,     0.43844,     0.43944,     0.44044,     0.44144,     0.44244,     0.44344,     0.44444,     0.44545,     0.44645,     0.44745,     0.44845,     0.44945,     0.45045,     0.45145,     0.45245,     0.45345,     0.45445,     0.45546,\n",
              "           0.45646,     0.45746,     0.45846,     0.45946,     0.46046,     0.46146,     0.46246,     0.46346,     0.46446,     0.46547,     0.46647,     0.46747,     0.46847,     0.46947,     0.47047,     0.47147,     0.47247,     0.47347,     0.47447,     0.47548,     0.47648,     0.47748,     0.47848,     0.47948,\n",
              "           0.48048,     0.48148,     0.48248,     0.48348,     0.48448,     0.48549,     0.48649,     0.48749,     0.48849,     0.48949,     0.49049,     0.49149,     0.49249,     0.49349,     0.49449,      0.4955,      0.4965,      0.4975,      0.4985,      0.4995,      0.5005,      0.5015,      0.5025,      0.5035,\n",
              "            0.5045,     0.50551,     0.50651,     0.50751,     0.50851,     0.50951,     0.51051,     0.51151,     0.51251,     0.51351,     0.51451,     0.51552,     0.51652,     0.51752,     0.51852,     0.51952,     0.52052,     0.52152,     0.52252,     0.52352,     0.52452,     0.52553,     0.52653,     0.52753,\n",
              "           0.52853,     0.52953,     0.53053,     0.53153,     0.53253,     0.53353,     0.53453,     0.53554,     0.53654,     0.53754,     0.53854,     0.53954,     0.54054,     0.54154,     0.54254,     0.54354,     0.54454,     0.54555,     0.54655,     0.54755,     0.54855,     0.54955,     0.55055,     0.55155,\n",
              "           0.55255,     0.55355,     0.55455,     0.55556,     0.55656,     0.55756,     0.55856,     0.55956,     0.56056,     0.56156,     0.56256,     0.56356,     0.56456,     0.56557,     0.56657,     0.56757,     0.56857,     0.56957,     0.57057,     0.57157,     0.57257,     0.57357,     0.57457,     0.57558,\n",
              "           0.57658,     0.57758,     0.57858,     0.57958,     0.58058,     0.58158,     0.58258,     0.58358,     0.58458,     0.58559,     0.58659,     0.58759,     0.58859,     0.58959,     0.59059,     0.59159,     0.59259,     0.59359,     0.59459,      0.5956,      0.5966,      0.5976,      0.5986,      0.5996,\n",
              "            0.6006,      0.6016,      0.6026,      0.6036,      0.6046,     0.60561,     0.60661,     0.60761,     0.60861,     0.60961,     0.61061,     0.61161,     0.61261,     0.61361,     0.61461,     0.61562,     0.61662,     0.61762,     0.61862,     0.61962,     0.62062,     0.62162,     0.62262,     0.62362,\n",
              "           0.62462,     0.62563,     0.62663,     0.62763,     0.62863,     0.62963,     0.63063,     0.63163,     0.63263,     0.63363,     0.63463,     0.63564,     0.63664,     0.63764,     0.63864,     0.63964,     0.64064,     0.64164,     0.64264,     0.64364,     0.64464,     0.64565,     0.64665,     0.64765,\n",
              "           0.64865,     0.64965,     0.65065,     0.65165,     0.65265,     0.65365,     0.65465,     0.65566,     0.65666,     0.65766,     0.65866,     0.65966,     0.66066,     0.66166,     0.66266,     0.66366,     0.66466,     0.66567,     0.66667,     0.66767,     0.66867,     0.66967,     0.67067,     0.67167,\n",
              "           0.67267,     0.67367,     0.67467,     0.67568,     0.67668,     0.67768,     0.67868,     0.67968,     0.68068,     0.68168,     0.68268,     0.68368,     0.68468,     0.68569,     0.68669,     0.68769,     0.68869,     0.68969,     0.69069,     0.69169,     0.69269,     0.69369,     0.69469,      0.6957,\n",
              "            0.6967,      0.6977,      0.6987,      0.6997,      0.7007,      0.7017,      0.7027,      0.7037,      0.7047,     0.70571,     0.70671,     0.70771,     0.70871,     0.70971,     0.71071,     0.71171,     0.71271,     0.71371,     0.71471,     0.71572,     0.71672,     0.71772,     0.71872,     0.71972,\n",
              "           0.72072,     0.72172,     0.72272,     0.72372,     0.72472,     0.72573,     0.72673,     0.72773,     0.72873,     0.72973,     0.73073,     0.73173,     0.73273,     0.73373,     0.73473,     0.73574,     0.73674,     0.73774,     0.73874,     0.73974,     0.74074,     0.74174,     0.74274,     0.74374,\n",
              "           0.74474,     0.74575,     0.74675,     0.74775,     0.74875,     0.74975,     0.75075,     0.75175,     0.75275,     0.75375,     0.75475,     0.75576,     0.75676,     0.75776,     0.75876,     0.75976,     0.76076,     0.76176,     0.76276,     0.76376,     0.76476,     0.76577,     0.76677,     0.76777,\n",
              "           0.76877,     0.76977,     0.77077,     0.77177,     0.77277,     0.77377,     0.77477,     0.77578,     0.77678,     0.77778,     0.77878,     0.77978,     0.78078,     0.78178,     0.78278,     0.78378,     0.78478,     0.78579,     0.78679,     0.78779,     0.78879,     0.78979,     0.79079,     0.79179,\n",
              "           0.79279,     0.79379,     0.79479,      0.7958,      0.7968,      0.7978,      0.7988,      0.7998,      0.8008,      0.8018,      0.8028,      0.8038,      0.8048,     0.80581,     0.80681,     0.80781,     0.80881,     0.80981,     0.81081,     0.81181,     0.81281,     0.81381,     0.81481,     0.81582,\n",
              "           0.81682,     0.81782,     0.81882,     0.81982,     0.82082,     0.82182,     0.82282,     0.82382,     0.82482,     0.82583,     0.82683,     0.82783,     0.82883,     0.82983,     0.83083,     0.83183,     0.83283,     0.83383,     0.83483,     0.83584,     0.83684,     0.83784,     0.83884,     0.83984,\n",
              "           0.84084,     0.84184,     0.84284,     0.84384,     0.84484,     0.84585,     0.84685,     0.84785,     0.84885,     0.84985,     0.85085,     0.85185,     0.85285,     0.85385,     0.85485,     0.85586,     0.85686,     0.85786,     0.85886,     0.85986,     0.86086,     0.86186,     0.86286,     0.86386,\n",
              "           0.86486,     0.86587,     0.86687,     0.86787,     0.86887,     0.86987,     0.87087,     0.87187,     0.87287,     0.87387,     0.87487,     0.87588,     0.87688,     0.87788,     0.87888,     0.87988,     0.88088,     0.88188,     0.88288,     0.88388,     0.88488,     0.88589,     0.88689,     0.88789,\n",
              "           0.88889,     0.88989,     0.89089,     0.89189,     0.89289,     0.89389,     0.89489,      0.8959,      0.8969,      0.8979,      0.8989,      0.8999,      0.9009,      0.9019,      0.9029,      0.9039,      0.9049,     0.90591,     0.90691,     0.90791,     0.90891,     0.90991,     0.91091,     0.91191,\n",
              "           0.91291,     0.91391,     0.91491,     0.91592,     0.91692,     0.91792,     0.91892,     0.91992,     0.92092,     0.92192,     0.92292,     0.92392,     0.92492,     0.92593,     0.92693,     0.92793,     0.92893,     0.92993,     0.93093,     0.93193,     0.93293,     0.93393,     0.93493,     0.93594,\n",
              "           0.93694,     0.93794,     0.93894,     0.93994,     0.94094,     0.94194,     0.94294,     0.94394,     0.94494,     0.94595,     0.94695,     0.94795,     0.94895,     0.94995,     0.95095,     0.95195,     0.95295,     0.95395,     0.95495,     0.95596,     0.95696,     0.95796,     0.95896,     0.95996,\n",
              "           0.96096,     0.96196,     0.96296,     0.96396,     0.96496,     0.96597,     0.96697,     0.96797,     0.96897,     0.96997,     0.97097,     0.97197,     0.97297,     0.97397,     0.97497,     0.97598,     0.97698,     0.97798,     0.97898,     0.97998,     0.98098,     0.98198,     0.98298,     0.98398,\n",
              "           0.98498,     0.98599,     0.98699,     0.98799,     0.98899,     0.98999,     0.99099,     0.99199,     0.99299,     0.99399,     0.99499,       0.996,       0.997,       0.998,       0.999,           1]), array([[    0.99552,     0.99552,     0.99103,     0.99103,     0.98655,     0.98206,     0.98206,     0.98206,     0.98206,     0.98206,     0.98206,     0.98206,     0.98206,     0.98206,     0.98206,     0.98206,     0.98206,     0.98206,     0.98206,     0.98206,     0.98206,     0.98206,     0.98206,\n",
              "            0.98206,     0.98206,     0.98206,     0.98206,     0.98206,     0.98206,     0.98206,     0.98206,     0.98206,     0.98206,     0.98206,     0.98206,     0.98206,     0.98046,     0.97829,     0.97758,     0.97758,     0.97758,     0.97758,     0.97758,     0.97758,     0.97758,     0.97758,\n",
              "            0.97758,     0.97758,     0.97758,     0.97758,     0.97758,     0.97758,     0.97758,     0.97758,     0.97758,     0.97758,     0.97758,     0.97758,     0.97758,     0.97758,     0.97758,     0.97758,     0.97758,     0.97758,     0.97758,     0.97758,     0.97758,     0.97758,     0.97758,\n",
              "            0.97758,     0.97758,     0.97758,     0.97758,     0.97758,     0.97758,     0.97758,     0.97758,     0.97758,     0.97758,     0.97758,     0.97758,     0.97758,     0.97758,     0.97758,     0.97758,     0.97758,     0.97758,     0.97758,     0.97758,     0.97758,     0.97758,     0.97758,\n",
              "            0.97758,     0.97758,     0.97758,     0.97758,     0.97758,     0.97758,     0.97758,     0.97758,     0.97758,     0.97758,     0.97758,     0.97758,     0.97758,     0.97758,     0.97758,     0.97758,     0.97758,     0.97758,     0.97639,     0.97309,     0.97309,     0.97309,     0.97309,\n",
              "            0.97309,     0.97309,     0.97309,     0.97309,     0.97309,     0.97309,     0.97309,     0.97309,     0.97309,     0.97309,     0.97309,     0.97309,     0.97309,     0.97309,     0.97309,     0.97309,     0.97309,     0.97309,     0.97309,     0.97309,     0.97309,     0.97309,     0.97309,\n",
              "            0.97309,     0.97309,     0.97309,     0.97309,     0.97309,     0.97309,     0.97309,     0.97309,     0.97309,     0.97309,     0.97309,     0.97309,     0.97309,     0.97309,     0.97309,     0.97309,     0.97309,     0.97309,     0.97309,     0.97309,     0.97309,     0.97309,     0.97309,\n",
              "            0.97309,     0.97309,     0.97309,     0.97309,     0.97309,     0.97309,     0.97309,     0.97309,     0.97309,     0.97309,     0.97309,     0.97309,     0.97309,     0.97309,     0.97309,     0.97309,     0.97309,     0.97309,     0.97309,     0.97309,     0.97309,     0.97309,     0.97309,\n",
              "            0.97309,     0.97309,     0.97309,     0.97309,     0.97309,     0.97309,     0.97309,     0.97309,     0.97309,     0.97309,     0.97309,     0.97309,     0.97309,     0.97309,     0.97309,     0.97309,     0.97309,     0.97309,     0.97309,     0.97309,     0.97309,     0.97309,     0.97309,\n",
              "            0.97309,     0.97309,     0.97309,     0.97309,     0.97309,     0.97309,     0.97309,     0.97309,     0.97309,     0.97309,     0.97309,     0.97309,     0.97309,     0.97309,     0.97309,     0.97309,     0.97309,     0.97309,     0.97309,     0.97309,     0.97309,     0.97309,     0.97309,\n",
              "            0.97309,     0.97309,     0.97309,     0.97309,     0.97309,     0.97309,     0.97309,     0.97309,     0.97309,     0.97309,     0.97309,     0.97309,     0.97309,     0.97309,     0.97309,     0.97309,     0.97309,     0.97309,     0.97309,     0.97309,     0.97309,     0.97309,     0.97309,\n",
              "            0.97309,     0.97309,     0.97309,     0.97309,     0.97309,     0.97309,     0.97309,     0.97309,     0.97307,     0.97283,     0.97258,     0.97233,     0.97209,     0.97184,     0.97159,     0.97134,      0.9711,     0.97085,      0.9706,     0.97036,     0.97011,     0.96986,     0.96962,\n",
              "            0.96937,     0.96912,     0.96887,     0.96863,     0.96861,     0.96861,     0.96861,     0.96861,     0.96861,     0.96861,     0.96861,     0.96861,     0.96861,     0.96861,     0.96861,     0.96861,     0.96861,     0.96861,     0.96861,     0.96861,     0.96861,     0.96861,     0.96861,\n",
              "            0.96861,     0.96861,     0.96861,     0.96861,     0.96861,     0.96861,     0.96861,     0.96861,     0.96861,     0.96861,     0.96861,     0.96861,     0.96861,     0.96861,     0.96861,     0.96861,     0.96861,     0.96861,     0.96861,     0.96861,     0.96861,     0.96861,     0.96861,\n",
              "            0.96861,     0.96861,     0.96861,     0.96861,     0.96861,     0.96861,     0.96861,     0.96861,     0.96861,     0.96861,     0.96861,     0.96861,     0.96861,     0.96861,     0.96861,     0.96861,     0.96861,     0.96861,     0.96861,     0.96861,     0.96861,     0.96861,     0.96861,\n",
              "            0.96861,     0.96861,     0.96861,     0.96861,     0.96861,     0.96861,     0.96861,     0.96861,     0.96861,     0.96861,     0.96861,     0.96861,     0.96861,     0.96861,     0.96861,     0.96861,     0.96861,     0.96861,     0.96861,     0.96861,     0.96861,     0.96861,     0.96861,\n",
              "            0.96861,     0.96861,     0.96861,     0.96861,     0.96861,     0.96861,     0.96861,     0.96861,     0.96861,     0.96861,     0.96861,     0.96861,     0.96861,     0.96861,     0.96861,     0.96861,     0.96861,     0.96861,     0.96861,     0.96861,     0.96861,     0.96861,     0.96854,\n",
              "            0.96846,     0.96838,      0.9683,     0.96823,     0.96815,     0.96807,     0.96799,     0.96791,     0.96783,     0.96775,     0.96767,      0.9676,     0.96752,     0.96744,     0.96736,     0.96728,      0.9672,     0.96712,     0.96704,     0.96696,     0.96689,     0.96681,     0.96673,\n",
              "            0.96665,     0.96657,     0.96649,     0.96641,     0.96633,     0.96626,     0.96618,      0.9661,     0.96602,     0.96594,     0.96586,     0.96578,      0.9657,     0.96563,     0.96555,     0.96547,     0.96539,     0.96531,     0.96523,     0.96515,     0.96507,     0.96499,     0.96492,\n",
              "            0.96484,     0.96476,     0.96468,      0.9646,     0.96452,     0.96444,     0.96436,     0.96429,     0.96421,     0.96413,     0.96401,     0.96388,     0.96376,     0.96364,     0.96352,      0.9634,     0.96327,     0.96315,     0.96303,     0.96291,     0.96278,     0.96266,     0.96254,\n",
              "            0.96242,     0.96229,     0.96217,     0.96205,     0.96193,      0.9618,     0.96168,     0.96156,     0.96144,     0.96131,     0.96119,     0.96107,     0.96095,     0.96082,      0.9607,     0.96058,     0.96046,     0.96033,     0.96021,     0.96009,     0.95997,     0.95984,     0.95972,\n",
              "            0.95948,     0.95899,      0.9585,     0.95801,     0.95752,     0.95704,     0.95655,     0.95606,     0.95557,     0.95516,     0.95516,     0.95516,     0.95516,     0.95516,     0.95516,     0.95516,     0.95516,     0.95516,     0.95516,     0.95516,     0.95516,     0.95516,     0.95516,\n",
              "            0.95516,     0.95516,     0.95516,     0.95516,     0.95516,     0.95516,     0.95516,     0.95516,     0.95516,     0.95516,     0.95516,     0.95516,     0.95516,     0.95516,      0.9545,      0.9537,     0.95289,     0.95208,     0.95127,     0.95059,     0.95026,     0.94994,     0.94962,\n",
              "             0.9493,     0.94898,     0.94865,     0.94833,     0.94801,     0.94769,     0.94737,     0.94704,     0.94672,      0.9464,     0.94619,     0.94619,     0.94619,     0.94619,     0.94619,     0.94619,     0.94619,     0.94619,     0.94619,     0.94619,     0.94619,     0.94619,     0.94619,\n",
              "            0.94619,     0.94619,     0.94619,     0.94619,     0.94619,     0.94619,     0.94619,     0.94619,     0.94619,     0.94619,     0.94619,     0.94619,     0.94619,     0.94619,     0.94619,     0.94619,     0.94605,     0.94587,     0.94569,     0.94551,     0.94533,     0.94515,     0.94496,\n",
              "            0.94478,      0.9446,     0.94442,     0.94424,     0.94406,     0.94388,     0.94369,     0.94351,     0.94333,     0.94315,     0.94297,     0.94279,     0.94261,     0.94243,     0.94224,     0.94206,     0.94188,     0.94168,     0.94054,     0.93939,     0.93825,     0.93545,     0.93263,\n",
              "             0.9325,     0.93238,     0.93225,     0.93213,       0.932,     0.93188,     0.93175,     0.93163,      0.9315,     0.93138,     0.93125,     0.93113,       0.931,     0.93088,     0.93075,     0.93063,      0.9305,     0.93038,     0.93025,     0.93013,        0.93,     0.92988,     0.92975,\n",
              "            0.92963,      0.9295,     0.92938,     0.92925,     0.92913,       0.929,     0.92888,     0.92875,     0.92863,      0.9285,     0.92838,     0.92825,     0.92808,      0.9279,     0.92772,     0.92754,     0.92737,     0.92719,     0.92701,     0.92683,     0.92665,     0.92648,      0.9263,\n",
              "            0.92612,     0.92594,     0.92576,     0.92558,     0.92541,     0.92523,     0.92505,     0.92487,     0.92469,     0.92452,     0.92434,     0.92416,     0.92398,      0.9238,     0.92337,     0.92287,     0.92237,     0.92188,     0.92138,     0.92088,     0.92038,     0.91988,     0.91938,\n",
              "            0.91825,     0.91696,     0.91566,     0.91456,     0.91385,     0.91314,     0.91243,     0.91172,     0.91101,     0.91031,     0.91031,     0.91031,     0.91031,     0.91031,     0.91031,     0.91031,     0.91031,     0.91031,     0.91031,     0.91031,     0.91031,     0.91031,     0.91031,\n",
              "               0.91,     0.90943,     0.90887,      0.9083,     0.90774,     0.90717,     0.90661,     0.90605,     0.90531,     0.90447,     0.90363,     0.90279,     0.90195,     0.90122,     0.90076,      0.9003,     0.89984,     0.89939,     0.89893,     0.89847,     0.89801,     0.89755,      0.8971,\n",
              "            0.89554,     0.89283,     0.89105,     0.88947,     0.88789,     0.88699,      0.8861,     0.88521,     0.88432,     0.88343,     0.87987,     0.87386,     0.87278,     0.87169,      0.8706,     0.86967,     0.86896,     0.86825,     0.86754,     0.86684,     0.86613,     0.86538,     0.86412,\n",
              "            0.86286,      0.8616,     0.85921,     0.85621,     0.85488,     0.85356,     0.85223,     0.84811,     0.84533,     0.84255,     0.83349,     0.83094,      0.8292,     0.82836,     0.82752,     0.82668,     0.82584,     0.82485,     0.82285,     0.82085,     0.81961,     0.81845,      0.8173,\n",
              "            0.81615,      0.8086,      0.7977,     0.79403,     0.78798,     0.78591,     0.78154,     0.77311,     0.76513,     0.75752,     0.75311,     0.75226,     0.75142,     0.75057,     0.74973,     0.74888,     0.74518,     0.73948,     0.73184,     0.72994,     0.72869,     0.72744,     0.72553,\n",
              "            0.72152,       0.719,     0.71572,     0.70362,     0.70182,     0.70001,     0.69829,     0.69659,     0.69492,     0.69357,     0.69222,     0.69087,     0.68804,     0.67874,      0.6708,     0.66769,     0.66476,     0.65641,     0.64944,      0.6483,     0.64716,     0.64603,     0.64439,\n",
              "            0.64259,     0.63612,     0.63343,     0.62826,     0.62207,     0.61952,     0.60906,     0.59798,     0.58818,     0.57885,     0.57299,     0.57011,     0.56226,     0.55685,     0.55028,     0.54318,     0.53938,     0.52683,     0.52262,     0.51956,     0.51775,     0.51595,     0.51211,\n",
              "             0.5082,     0.50078,      0.4945,     0.47932,     0.47684,     0.46821,     0.44874,     0.43285,     0.42867,     0.42614,     0.40793,     0.40367,     0.39843,     0.39344,     0.38555,     0.38322,     0.37636,     0.36625,     0.36018,     0.35521,      0.3397,     0.32733,     0.31245,\n",
              "             0.3048,     0.29813,     0.29401,     0.28343,     0.27171,     0.25202,     0.23584,     0.23101,     0.22663,     0.22074,     0.20692,     0.19906,     0.19452,     0.18222,     0.17482,     0.17116,     0.16131,     0.15592,     0.14653,     0.14061,     0.13218,     0.11538,     0.10752,\n",
              "           0.099536,    0.095227,    0.090096,    0.077521,    0.070707,     0.06895,    0.067168,    0.064769,    0.062236,    0.059055,    0.056133,    0.052868,    0.048795,    0.047102,     0.04541,     0.04047,     0.03208,    0.024498,    0.019169,    0.014127,    0.012277,    0.010935,   0.0095935,\n",
              "          0.0056492,           0,           0,           0,           0,           0,           0,           0,           0,           0,           0,           0,           0,           0,           0,           0,           0,           0,           0,           0,           0,           0,           0,\n",
              "                  0,           0,           0,           0,           0,           0,           0,           0,           0,           0,           0,           0,           0,           0,           0,           0,           0,           0,           0,           0,           0,           0,           0,\n",
              "                  0,           0,           0,           0,           0,           0,           0,           0,           0,           0,           0,           0,           0,           0,           0,           0,           0,           0,           0,           0,           0,           0,           0,\n",
              "                  0,           0,           0,           0,           0,           0,           0,           0,           0,           0,           0,           0,           0,           0,           0,           0,           0,           0,           0,           0,           0,           0,           0,\n",
              "                  0,           0,           0,           0,           0,           0,           0,           0,           0,           0,           0]]), 'Confidence', 'Recall']]\n",
              "fitness: 0.7087543271346721\n",
              "keys: ['metrics/precision(B)', 'metrics/recall(B)', 'metrics/mAP50(B)', 'metrics/mAP50-95(B)']\n",
              "maps: array([    0.67774,     0.67774])\n",
              "names: {0: 'tumor', 1: 'non-tumor'}\n",
              "plot: True\n",
              "results_dict: {'metrics/precision(B)': 0.9818037755077447, 'metrics/recall(B)': 0.9678317309003767, 'metrics/mAP50(B)': 0.9879278532016722, 'metrics/mAP50-95(B)': 0.6777350464605609, 'fitness': 0.7087543271346721}\n",
              "save_dir: PosixPath('runs/detect/train3')\n",
              "speed: {'preprocess': 1.0483158008934672, 'inference': 198.05052034523453, 'loss': 0.0002459025703738089, 'postprocess': 0.39272351115273785}\n",
              "task: 'detect'"
            ]
          },
          "metadata": {},
          "execution_count": 17
        }
      ]
    },
    {
      "cell_type": "code",
      "source": [
        "import os\n",
        "\n",
        "# Cari file 'best.pt' di seluruh struktur direktori default\n",
        "default_runs_path = '/content/runs/detect'\n",
        "for root, dirs, files in os.walk(default_runs_path):\n",
        "    if 'best.pt' in files:\n",
        "        print(f\"File 'best.pt' ditemukan di: {os.path.join(root, 'best.pt')}\")\n"
      ],
      "metadata": {
        "colab": {
          "base_uri": "https://localhost:8080/"
        },
        "id": "dlyp24UawcGP",
        "outputId": "041334c5-11b4-444b-8c25-2e90a76abdd1"
      },
      "execution_count": null,
      "outputs": [
        {
          "output_type": "stream",
          "name": "stdout",
          "text": [
            "File 'best.pt' ditemukan di: /content/runs/detect/train/weights/best.pt\n",
            "File 'best.pt' ditemukan di: /content/runs/detect/train2/weights/best.pt\n",
            "File 'best.pt' ditemukan di: /content/runs/detect/train3/weights/best.pt\n"
          ]
        }
      ]
    },
    {
      "cell_type": "code",
      "source": [
        "from ultralytics import YOLO\n",
        "import matplotlib.pyplot as plt\n",
        "\n",
        "# File model\n",
        "model_path = '/content/runs/detect/train3/weights/best.pt'\n",
        "\n",
        "# Gambar uji\n",
        "test_images = [\n",
        "    '/content/drive/MyDrive/Datasets/brain_tumor_dataset/images/val/00000_102.jpg',\n",
        "    '/content/drive/MyDrive/Datasets/brain_tumor_dataset/images/val/00000_121.jpg',\n",
        "]\n",
        "\n",
        "# Muat model\n",
        "model = YOLO(model_path)\n",
        "\n",
        "# Prediksi gambar\n",
        "results = model.predict(source=test_images, conf=0.25, save=True)\n",
        "\n",
        "# Tampilkan hasil (bounding box dan label pada gambar)\n",
        "fig, axes = plt.subplots(1, 2, figsize=(12, 6))  # Buat subplot 1 baris, 2 kolom\n",
        "\n",
        "for i, result in enumerate(results):\n",
        "    ax = axes[i]\n",
        "    ax.imshow(result.plot())  # Menampilkan gambar dengan bounding box\n",
        "    ax.axis('off')  # Menyembunyikan axis\n",
        "\n",
        "plt.show()\n"
      ],
      "metadata": {
        "colab": {
          "base_uri": "https://localhost:8080/",
          "height": 550
        },
        "id": "rTKlqCQ82gHk",
        "outputId": "10ab65cb-8f2f-4bfe-e2db-ee78e607411c"
      },
      "execution_count": null,
      "outputs": [
        {
          "output_type": "stream",
          "name": "stdout",
          "text": [
            "\n",
            "0: 640x640 2 tumors, 172.8ms\n",
            "1: 640x640 1 tumor, 172.8ms\n",
            "Speed: 3.3ms preprocess, 172.8ms inference, 0.9ms postprocess per image at shape (1, 3, 640, 640)\n",
            "Results saved to \u001b[1mruns/detect/predict30\u001b[0m\n"
          ]
        },
        {
          "output_type": "display_data",
          "data": {
            "text/plain": [
              "<Figure size 1200x600 with 2 Axes>"
            ],
            "image/png": "[encoded data removed]"
          },
          "metadata": {}
        }
      ]
    }
  ],
  "metadata": {
    "colab": {
      "machine_shape": "hm",
      "provenance": []
    },
    "kernelspec": {
      "display_name": "Python 3",
      "name": "python3"
    },
    "language_info": {
      "codemirror_mode": {
        "name": "ipython",
        "version": 3
      },
      "file_extension": ".py",
      "mimetype": "text/x-python",
      "name": "python",
      "nbconvert_exporter": "python",
      "pygments_lexer": "ipython3",
      "version": "3.11.5"
    }
  },
  "nbformat": 4,
  "nbformat_minor": 0
}